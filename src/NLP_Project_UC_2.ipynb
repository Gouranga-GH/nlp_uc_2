{
  "cells": [
    {
      "cell_type": "markdown",
      "id": "0221fbcc",
      "metadata": {
        "id": "0221fbcc"
      },
      "source": [
        "# <center><b>NLP_Project_1_Part_1</b></center>"
      ]
    },
    {
      "cell_type": "code",
      "execution_count": 1,
      "id": "b86f12d1",
      "metadata": {
        "colab": {
          "base_uri": "https://localhost:8080/"
        },
        "id": "b86f12d1",
        "outputId": "1a3cfb20-e175-4792-920d-a339784e23ed"
      },
      "outputs": [
        {
          "output_type": "stream",
          "name": "stdout",
          "text": [
            "Mounted at /content/drive/\n"
          ]
        }
      ],
      "source": [
        "# Mounting the personal drive to import the data for the project\n",
        "\n",
        "from google.colab import drive\n",
        "drive.mount('/content/drive/')"
      ]
    },
    {
      "cell_type": "code",
      "execution_count": 2,
      "id": "5cd6a93b",
      "metadata": {
        "colab": {
          "base_uri": "https://localhost:8080/"
        },
        "id": "5cd6a93b",
        "outputId": "c17ceb95-192c-4dfb-f8fe-db078555d4f7"
      },
      "outputs": [
        {
          "output_type": "stream",
          "name": "stdout",
          "text": [
            "[nltk_data] Downloading package stopwords to /root/nltk_data...\n",
            "[nltk_data]   Unzipping corpora/stopwords.zip.\n"
          ]
        }
      ],
      "source": [
        "# Importing libraries\n",
        "\n",
        "# Basic\n",
        "import os\n",
        "import pandas as pd\n",
        "import random\n",
        "from sklearn.model_selection import train_test_split\n",
        "from sklearn.model_selection import GridSearchCV, RandomizedSearchCV\n",
        "from sklearn.metrics import accuracy_score, classification_report\n",
        "\n",
        "# Related to NLP and ML\n",
        "import re\n",
        "import nltk\n",
        "nltk.download('stopwords')\n",
        "from nltk.corpus import stopwords\n",
        "# nltk.download('wordnet')\n",
        "# from nltk.stem import WordNetLemmatizer\n",
        "# from nltk.tokenize import WhitespaceTokenizer\n",
        "from sklearn.feature_extraction.text import CountVectorizer, TfidfVectorizer\n",
        "from sklearn.preprocessing import MultiLabelBinarizer\n",
        "from sklearn.linear_model import LogisticRegression\n",
        "from sklearn.ensemble import RandomForestClassifier\n",
        "from sklearn.multiclass import OneVsRestClassifier\n"
      ]
    },
    {
      "cell_type": "code",
      "execution_count": 3,
      "id": "6a6f6bcd",
      "metadata": {
        "colab": {
          "base_uri": "https://localhost:8080/",
          "height": 36
        },
        "id": "6a6f6bcd",
        "outputId": "9ec6fde5-63b8-4c41-b069-8aae390dbb07"
      },
      "outputs": [
        {
          "output_type": "execute_result",
          "data": {
            "application/vnd.google.colaboratory.intrinsic+json": {
              "type": "string"
            },
            "text/plain": [
              "'/content/drive/MyDrive/Colab Data/NLP_Project/Part_1'"
            ]
          },
          "metadata": {},
          "execution_count": 3
        }
      ],
      "source": [
        "file_path = r'/content/drive/MyDrive/Colab Data/NLP_Project/Part_1'\n",
        "os.chdir(file_path)\n",
        "os.getcwd()"
      ]
    },
    {
      "cell_type": "markdown",
      "id": "9199ab81",
      "metadata": {
        "id": "9199ab81"
      },
      "source": [
        "## 1. Import and analyse the data set"
      ]
    },
    {
      "cell_type": "code",
      "execution_count": 4,
      "id": "02753937",
      "metadata": {
        "id": "02753937"
      },
      "outputs": [],
      "source": [
        "blog_data = pd.read_csv(\"blogtext.csv\")"
      ]
    },
    {
      "cell_type": "code",
      "execution_count": 5,
      "id": "8a5b22ab",
      "metadata": {
        "colab": {
          "base_uri": "https://localhost:8080/"
        },
        "id": "8a5b22ab",
        "outputId": "396c331a-b7c8-416c-e992-c86925687363"
      },
      "outputs": [
        {
          "output_type": "stream",
          "name": "stdout",
          "text": [
            "Shape of the blog data :  (681284, 7)\n"
          ]
        }
      ],
      "source": [
        "print('Shape of the blog data : ', blog_data.shape)"
      ]
    },
    {
      "cell_type": "code",
      "execution_count": 6,
      "id": "962f24a8",
      "metadata": {
        "id": "962f24a8"
      },
      "outputs": [],
      "source": [
        "# Since the dataset is too big at computational level. Hence we will take it partially for faster execution.\n",
        "\n",
        "blog_data = blog_data.head(11111)"
      ]
    },
    {
      "cell_type": "code",
      "execution_count": 7,
      "id": "bfacebb1",
      "metadata": {
        "colab": {
          "base_uri": "https://localhost:8080/",
          "height": 206
        },
        "id": "bfacebb1",
        "outputId": "8b4493bf-dc3d-4ed7-8e05-50fbeb40ff82"
      },
      "outputs": [
        {
          "output_type": "execute_result",
          "data": {
            "text/html": [
              "\n",
              "  <div id=\"df-77a4eb80-e4e8-4317-89c0-7836c5a5f58c\">\n",
              "    <div class=\"colab-df-container\">\n",
              "      <div>\n",
              "<style scoped>\n",
              "    .dataframe tbody tr th:only-of-type {\n",
              "        vertical-align: middle;\n",
              "    }\n",
              "\n",
              "    .dataframe tbody tr th {\n",
              "        vertical-align: top;\n",
              "    }\n",
              "\n",
              "    .dataframe thead th {\n",
              "        text-align: right;\n",
              "    }\n",
              "</style>\n",
              "<table border=\"1\" class=\"dataframe\">\n",
              "  <thead>\n",
              "    <tr style=\"text-align: right;\">\n",
              "      <th></th>\n",
              "      <th>id</th>\n",
              "      <th>gender</th>\n",
              "      <th>age</th>\n",
              "      <th>topic</th>\n",
              "      <th>sign</th>\n",
              "      <th>date</th>\n",
              "      <th>text</th>\n",
              "    </tr>\n",
              "  </thead>\n",
              "  <tbody>\n",
              "    <tr>\n",
              "      <th>5164</th>\n",
              "      <td>1103575</td>\n",
              "      <td>female</td>\n",
              "      <td>17</td>\n",
              "      <td>indUnk</td>\n",
              "      <td>Scorpio</td>\n",
              "      <td>23,January,2004</td>\n",
              "      <td>Damien Rice - Cannonball  Still a littl...</td>\n",
              "    </tr>\n",
              "    <tr>\n",
              "      <th>9895</th>\n",
              "      <td>3291253</td>\n",
              "      <td>male</td>\n",
              "      <td>27</td>\n",
              "      <td>Education</td>\n",
              "      <td>Virgo</td>\n",
              "      <td>26,May,2004</td>\n",
              "      <td>urlLink The New York Times &gt; Opini...</td>\n",
              "    </tr>\n",
              "    <tr>\n",
              "      <th>1307</th>\n",
              "      <td>3647746</td>\n",
              "      <td>male</td>\n",
              "      <td>39</td>\n",
              "      <td>Education</td>\n",
              "      <td>Virgo</td>\n",
              "      <td>11,August,2004</td>\n",
              "      <td>Seriously, has it come to this?  La...</td>\n",
              "    </tr>\n",
              "    <tr>\n",
              "      <th>8014</th>\n",
              "      <td>2635745</td>\n",
              "      <td>female</td>\n",
              "      <td>15</td>\n",
              "      <td>Student</td>\n",
              "      <td>Pisces</td>\n",
              "      <td>01,August,2004</td>\n",
              "      <td>I felt like several of these answers su...</td>\n",
              "    </tr>\n",
              "    <tr>\n",
              "      <th>2</th>\n",
              "      <td>2059027</td>\n",
              "      <td>male</td>\n",
              "      <td>15</td>\n",
              "      <td>Student</td>\n",
              "      <td>Leo</td>\n",
              "      <td>12,May,2004</td>\n",
              "      <td>In het kader van kernfusie op aarde...</td>\n",
              "    </tr>\n",
              "  </tbody>\n",
              "</table>\n",
              "</div>\n",
              "      <button class=\"colab-df-convert\" onclick=\"convertToInteractive('df-77a4eb80-e4e8-4317-89c0-7836c5a5f58c')\"\n",
              "              title=\"Convert this dataframe to an interactive table.\"\n",
              "              style=\"display:none;\">\n",
              "        \n",
              "  <svg xmlns=\"http://www.w3.org/2000/svg\" height=\"24px\"viewBox=\"0 0 24 24\"\n",
              "       width=\"24px\">\n",
              "    <path d=\"M0 0h24v24H0V0z\" fill=\"none\"/>\n",
              "    <path d=\"M18.56 5.44l.94 2.06.94-2.06 2.06-.94-2.06-.94-.94-2.06-.94 2.06-2.06.94zm-11 1L8.5 8.5l.94-2.06 2.06-.94-2.06-.94L8.5 2.5l-.94 2.06-2.06.94zm10 10l.94 2.06.94-2.06 2.06-.94-2.06-.94-.94-2.06-.94 2.06-2.06.94z\"/><path d=\"M17.41 7.96l-1.37-1.37c-.4-.4-.92-.59-1.43-.59-.52 0-1.04.2-1.43.59L10.3 9.45l-7.72 7.72c-.78.78-.78 2.05 0 2.83L4 21.41c.39.39.9.59 1.41.59.51 0 1.02-.2 1.41-.59l7.78-7.78 2.81-2.81c.8-.78.8-2.07 0-2.86zM5.41 20L4 18.59l7.72-7.72 1.47 1.35L5.41 20z\"/>\n",
              "  </svg>\n",
              "      </button>\n",
              "      \n",
              "  <style>\n",
              "    .colab-df-container {\n",
              "      display:flex;\n",
              "      flex-wrap:wrap;\n",
              "      gap: 12px;\n",
              "    }\n",
              "\n",
              "    .colab-df-convert {\n",
              "      background-color: #E8F0FE;\n",
              "      border: none;\n",
              "      border-radius: 50%;\n",
              "      cursor: pointer;\n",
              "      display: none;\n",
              "      fill: #1967D2;\n",
              "      height: 32px;\n",
              "      padding: 0 0 0 0;\n",
              "      width: 32px;\n",
              "    }\n",
              "\n",
              "    .colab-df-convert:hover {\n",
              "      background-color: #E2EBFA;\n",
              "      box-shadow: 0px 1px 2px rgba(60, 64, 67, 0.3), 0px 1px 3px 1px rgba(60, 64, 67, 0.15);\n",
              "      fill: #174EA6;\n",
              "    }\n",
              "\n",
              "    [theme=dark] .colab-df-convert {\n",
              "      background-color: #3B4455;\n",
              "      fill: #D2E3FC;\n",
              "    }\n",
              "\n",
              "    [theme=dark] .colab-df-convert:hover {\n",
              "      background-color: #434B5C;\n",
              "      box-shadow: 0px 1px 3px 1px rgba(0, 0, 0, 0.15);\n",
              "      filter: drop-shadow(0px 1px 2px rgba(0, 0, 0, 0.3));\n",
              "      fill: #FFFFFF;\n",
              "    }\n",
              "  </style>\n",
              "\n",
              "      <script>\n",
              "        const buttonEl =\n",
              "          document.querySelector('#df-77a4eb80-e4e8-4317-89c0-7836c5a5f58c button.colab-df-convert');\n",
              "        buttonEl.style.display =\n",
              "          google.colab.kernel.accessAllowed ? 'block' : 'none';\n",
              "\n",
              "        async function convertToInteractive(key) {\n",
              "          const element = document.querySelector('#df-77a4eb80-e4e8-4317-89c0-7836c5a5f58c');\n",
              "          const dataTable =\n",
              "            await google.colab.kernel.invokeFunction('convertToInteractive',\n",
              "                                                     [key], {});\n",
              "          if (!dataTable) return;\n",
              "\n",
              "          const docLinkHtml = 'Like what you see? Visit the ' +\n",
              "            '<a target=\"_blank\" href=https://colab.research.google.com/notebooks/data_table.ipynb>data table notebook</a>'\n",
              "            + ' to learn more about interactive tables.';\n",
              "          element.innerHTML = '';\n",
              "          dataTable['output_type'] = 'display_data';\n",
              "          await google.colab.output.renderOutput(dataTable, element);\n",
              "          const docLink = document.createElement('div');\n",
              "          docLink.innerHTML = docLinkHtml;\n",
              "          element.appendChild(docLink);\n",
              "        }\n",
              "      </script>\n",
              "    </div>\n",
              "  </div>\n",
              "  "
            ],
            "text/plain": [
              "           id  gender  age      topic     sign             date  \\\n",
              "5164  1103575  female   17     indUnk  Scorpio  23,January,2004   \n",
              "9895  3291253    male   27  Education    Virgo      26,May,2004   \n",
              "1307  3647746    male   39  Education    Virgo   11,August,2004   \n",
              "8014  2635745  female   15    Student   Pisces   01,August,2004   \n",
              "2     2059027    male   15    Student      Leo      12,May,2004   \n",
              "\n",
              "                                                   text  \n",
              "5164         Damien Rice - Cannonball  Still a littl...  \n",
              "9895              urlLink The New York Times > Opini...  \n",
              "1307             Seriously, has it come to this?  La...  \n",
              "8014         I felt like several of these answers su...  \n",
              "2                In het kader van kernfusie op aarde...  "
            ]
          },
          "metadata": {},
          "execution_count": 7
        }
      ],
      "source": [
        "# Let us look at some random samples\n",
        "# Re-run to check different samples\n",
        "\n",
        "blog_data.sample(5)"
      ]
    },
    {
      "cell_type": "code",
      "execution_count": 8,
      "id": "64bbc6b4",
      "metadata": {
        "colab": {
          "base_uri": "https://localhost:8080/"
        },
        "id": "64bbc6b4",
        "outputId": "370147c0-17a3-4108-bbb7-8d5a4f99ee0c"
      },
      "outputs": [
        {
          "output_type": "stream",
          "name": "stdout",
          "text": [
            "<class 'pandas.core.frame.DataFrame'>\n",
            "RangeIndex: 11111 entries, 0 to 11110\n",
            "Data columns (total 7 columns):\n",
            " #   Column  Non-Null Count  Dtype \n",
            "---  ------  --------------  ----- \n",
            " 0   id      11111 non-null  int64 \n",
            " 1   gender  11111 non-null  object\n",
            " 2   age     11111 non-null  int64 \n",
            " 3   topic   11111 non-null  object\n",
            " 4   sign    11111 non-null  object\n",
            " 5   date    11111 non-null  object\n",
            " 6   text    11111 non-null  object\n",
            "dtypes: int64(2), object(5)\n",
            "memory usage: 607.8+ KB\n"
          ]
        }
      ],
      "source": [
        "# Checking the info on the dataset\n",
        "\n",
        "blog_data.info()"
      ]
    },
    {
      "cell_type": "markdown",
      "id": "034e6c67",
      "metadata": {
        "id": "034e6c67"
      },
      "source": [
        "Let's analyse the distribution of data based on various attributes which can be categorised swiftly"
      ]
    },
    {
      "cell_type": "code",
      "execution_count": 9,
      "id": "c57e2520",
      "metadata": {
        "colab": {
          "base_uri": "https://localhost:8080/"
        },
        "id": "c57e2520",
        "outputId": "4e4b2fb9-23f6-49b3-bd18-04b21c67abcb"
      },
      "outputs": [
        {
          "output_type": "execute_result",
          "data": {
            "text/plain": [
              "male      6484\n",
              "female    4627\n",
              "Name: gender, dtype: int64"
            ]
          },
          "metadata": {},
          "execution_count": 9
        }
      ],
      "source": [
        "# Based on gender\n",
        "\n",
        "blog_data['gender'].value_counts()"
      ]
    },
    {
      "cell_type": "markdown",
      "id": "4b841ee5",
      "metadata": {
        "id": "4b841ee5"
      },
      "source": [
        "Here we can infer that blogging can't be discriminated based on gender as we can see that numbers are almost equal"
      ]
    },
    {
      "cell_type": "code",
      "execution_count": 10,
      "id": "ea0a0e59",
      "metadata": {
        "colab": {
          "base_uri": "https://localhost:8080/"
        },
        "id": "ea0a0e59",
        "outputId": "9c69383f-260a-479d-8314-cb259b896562"
      },
      "outputs": [
        {
          "output_type": "execute_result",
          "data": {
            "text/plain": [
              "35    2333\n",
              "36    1708\n",
              "17    1360\n",
              "27    1186\n",
              "24     655\n",
              "15     602\n",
              "34     553\n",
              "16     512\n",
              "25     489\n",
              "23     453\n",
              "26     360\n",
              "33     351\n",
              "14     229\n",
              "39     102\n",
              "13      60\n",
              "38      46\n",
              "37      37\n",
              "41      20\n",
              "45      16\n",
              "42      14\n",
              "47       8\n",
              "46       7\n",
              "43       6\n",
              "44       3\n",
              "40       1\n",
              "Name: age, dtype: int64"
            ]
          },
          "metadata": {},
          "execution_count": 10
        }
      ],
      "source": [
        "# Based on gender\n",
        "\n",
        "blog_data['age'].value_counts()"
      ]
    },
    {
      "cell_type": "markdown",
      "id": "b25f65a7",
      "metadata": {
        "id": "b25f65a7"
      },
      "source": [
        "We can see that most bloggers are of young age"
      ]
    },
    {
      "cell_type": "code",
      "execution_count": 11,
      "id": "959a6e1a",
      "metadata": {
        "colab": {
          "base_uri": "https://localhost:8080/"
        },
        "id": "959a6e1a",
        "outputId": "c965efc5-c019-47a4-a7bf-753ee814af7c"
      },
      "outputs": [
        {
          "output_type": "execute_result",
          "data": {
            "text/plain": [
              "indUnk                     3666\n",
              "Technology                 2773\n",
              "Fashion                    1622\n",
              "Student                    1340\n",
              "Education                   299\n",
              "Arts                        183\n",
              "Marketing                   156\n",
              "Internet                    137\n",
              "Engineering                 127\n",
              "Communications-Media         99\n",
              "BusinessServices             91\n",
              "Sports-Recreation            80\n",
              "Non-Profit                   79\n",
              "InvestmentBanking            70\n",
              "Science                      67\n",
              "Government                   65\n",
              "Transportation               46\n",
              "LawEnforcement-Security      46\n",
              "Architecture                 39\n",
              "Banking                      21\n",
              "Consulting                   21\n",
              "Museums-Libraries            17\n",
              "Military                     16\n",
              "Automotive                   14\n",
              "Law                          11\n",
              "Religion                      9\n",
              "Advertising                   5\n",
              "Publishing                    4\n",
              "Accounting                    4\n",
              "HumanResources                2\n",
              "Telecommunications            2\n",
              "Name: topic, dtype: int64"
            ]
          },
          "metadata": {},
          "execution_count": 11
        }
      ],
      "source": [
        "# Based on topic\n",
        "\n",
        "blog_data['topic'].value_counts()"
      ]
    },
    {
      "cell_type": "markdown",
      "id": "507db663",
      "metadata": {
        "id": "507db663"
      },
      "source": [
        "So, the blogs are about different topics with few more in numbers than rest"
      ]
    },
    {
      "cell_type": "code",
      "execution_count": 12,
      "id": "b4eafe42",
      "metadata": {
        "colab": {
          "base_uri": "https://localhost:8080/"
        },
        "id": "b4eafe42",
        "outputId": "e7c45fac-8b90-414c-bafb-8fbeb86d97f4"
      },
      "outputs": [
        {
          "output_type": "execute_result",
          "data": {
            "text/plain": [
              "id        0\n",
              "gender    0\n",
              "age       0\n",
              "topic     0\n",
              "sign      0\n",
              "date      0\n",
              "text      0\n",
              "dtype: int64"
            ]
          },
          "metadata": {},
          "execution_count": 12
        }
      ],
      "source": [
        "# Checking for null values\n",
        "\n",
        "blog_data.isnull().sum()"
      ]
    },
    {
      "cell_type": "markdown",
      "id": "47b3b969",
      "metadata": {
        "id": "47b3b969"
      },
      "source": [
        "We can see that there are no null values"
      ]
    },
    {
      "cell_type": "markdown",
      "id": "aff9a4c1",
      "metadata": {
        "id": "aff9a4c1"
      },
      "source": [
        "## 2. Perform data pre-processing on the data:\n",
        "- Data cleansing by removing unwanted characters, spaces, stop words etc \n",
        "- Convert text to lowercase.\n",
        "- Target/label merger and transformation\n",
        "- Train and test split\n",
        "- Vectorisation, etc."
      ]
    },
    {
      "cell_type": "code",
      "execution_count": 13,
      "id": "0acb070e",
      "metadata": {
        "colab": {
          "base_uri": "https://localhost:8080/"
        },
        "id": "0acb070e",
        "outputId": "16850ec1-25eb-462c-f68a-bdfcc6af2fe6"
      },
      "outputs": [
        {
          "output_type": "execute_result",
          "data": {
            "text/plain": [
              "0               Info has been found  100 pages and ...\n",
              "1               These are the team members   Drewes...\n",
              "2               In het kader van kernfusie op aarde...\n",
              "3                           testing  testing          \n",
              "4                 Thanks to Yahoos Toolbar I can no...\n",
              "Name: text, dtype: object"
            ]
          },
          "metadata": {},
          "execution_count": 13
        }
      ],
      "source": [
        "# Removing unwanted characters other than alphanumeric ones and displaying the changes\n",
        "\n",
        "pattern = '[^\\w ]'\n",
        "blog_data['text'] = blog_data['text'].apply(lambda s : re.sub(pattern,'',s))\n",
        "blog_data['text'].head()"
      ]
    },
    {
      "cell_type": "code",
      "execution_count": 14,
      "id": "42f07280",
      "metadata": {
        "colab": {
          "base_uri": "https://localhost:8080/"
        },
        "id": "42f07280",
        "outputId": "2f9acfa7-354c-43b8-e5ab-ebfc47790d9d"
      },
      "outputs": [
        {
          "output_type": "execute_result",
          "data": {
            "text/plain": [
              "0    Info has been found  100 pages and 45 MB of pd...\n",
              "1    These are the team members   Drewes van der La...\n",
              "2    In het kader van kernfusie op aarde  MAAK JE E...\n",
              "3                                     testing  testing\n",
              "4    Thanks to Yahoos Toolbar I can now capture the...\n",
              "Name: text, dtype: object"
            ]
          },
          "metadata": {},
          "execution_count": 14
        }
      ],
      "source": [
        "# Removing unwanted spaces and displaying the changes\n",
        "\n",
        "blog_data['text'] = blog_data['text'].apply(lambda s: s.strip())\n",
        "blog_data['text'].head()"
      ]
    },
    {
      "cell_type": "code",
      "execution_count": 15,
      "id": "c76c1199",
      "metadata": {
        "colab": {
          "base_uri": "https://localhost:8080/"
        },
        "id": "c76c1199",
        "outputId": "165ad4f7-a67b-49c2-ac41-af6fed21cd08"
      },
      "outputs": [
        {
          "output_type": "execute_result",
          "data": {
            "text/plain": [
              "0    info has been found  100 pages and 45 mb of pd...\n",
              "1    these are the team members   drewes van der la...\n",
              "2    in het kader van kernfusie op aarde  maak je e...\n",
              "3                                     testing  testing\n",
              "4    thanks to yahoos toolbar i can now capture the...\n",
              "Name: text, dtype: object"
            ]
          },
          "metadata": {},
          "execution_count": 15
        }
      ],
      "source": [
        "# Converting text to lower and displaying the changes\n",
        "\n",
        "blog_data.text = blog_data.text.apply(lambda s: s.lower())\n",
        "blog_data.text.head()"
      ]
    },
    {
      "cell_type": "code",
      "execution_count": 16,
      "id": "e59b6825",
      "metadata": {
        "colab": {
          "base_uri": "https://localhost:8080/"
        },
        "id": "e59b6825",
        "outputId": "73e93186-a391-4f09-e185-4c850b989449"
      },
      "outputs": [
        {
          "output_type": "execute_result",
          "data": {
            "text/plain": [
              "0    info found 100 pages 45 mb pdf files wait unti...\n",
              "1    team members drewes van der laag urllink mail ...\n",
              "2    het kader van kernfusie op aarde maak je eigen...\n",
              "3                                      testing testing\n",
              "4    thanks yahoos toolbar capture urls popupswhich...\n",
              "Name: text, dtype: object"
            ]
          },
          "metadata": {},
          "execution_count": 16
        }
      ],
      "source": [
        "# Removing stopwords and displaying the changes\n",
        "\n",
        "stopwords = set(stopwords.words('english'))\n",
        "\n",
        "blog_data['text'] = blog_data['text'].apply(lambda t: ' '.join([words for words in t.split() if words not in stopwords]))\n",
        "blog_data['text'].head()"
      ]
    },
    {
      "cell_type": "code",
      "execution_count": 17,
      "id": "d986c90c",
      "metadata": {
        "id": "d986c90c"
      },
      "outputs": [],
      "source": [
        "# # Performing lemmatization for getting the roots\n",
        "# # Step has been skipped owing to time constraints\n",
        "\n",
        "# w_s_tokenizer = WhitespaceTokenizer()\n",
        "# w_n_lemmatizer = WordNetLemmatizer()\n",
        "\n",
        "# def lemmatize_text(text):\n",
        "#     lemma = [w_n_lemmatizer.lemmatize(w) for w in w_s_tokenizer.tokenize(text)]\n",
        "#     return(' '.join(lemma)) \n",
        "\n",
        "# blog_data['text'] = blog_data['text'].apply(lemmatize_text)\n",
        "# blog_data['text'].head()"
      ]
    },
    {
      "cell_type": "code",
      "execution_count": 18,
      "id": "22a4dc0a",
      "metadata": {
        "colab": {
          "base_uri": "https://localhost:8080/",
          "height": 206
        },
        "id": "22a4dc0a",
        "outputId": "61819598-376d-47f9-d0b1-e062b583a1c8"
      },
      "outputs": [
        {
          "output_type": "execute_result",
          "data": {
            "text/html": [
              "\n",
              "  <div id=\"df-72021942-8f79-4dd9-acd2-1dfc83fd8cb1\">\n",
              "    <div class=\"colab-df-container\">\n",
              "      <div>\n",
              "<style scoped>\n",
              "    .dataframe tbody tr th:only-of-type {\n",
              "        vertical-align: middle;\n",
              "    }\n",
              "\n",
              "    .dataframe tbody tr th {\n",
              "        vertical-align: top;\n",
              "    }\n",
              "\n",
              "    .dataframe thead th {\n",
              "        text-align: right;\n",
              "    }\n",
              "</style>\n",
              "<table border=\"1\" class=\"dataframe\">\n",
              "  <thead>\n",
              "    <tr style=\"text-align: right;\">\n",
              "      <th></th>\n",
              "      <th>id</th>\n",
              "      <th>gender</th>\n",
              "      <th>age</th>\n",
              "      <th>topic</th>\n",
              "      <th>sign</th>\n",
              "      <th>date</th>\n",
              "      <th>text</th>\n",
              "      <th>multi_label</th>\n",
              "    </tr>\n",
              "  </thead>\n",
              "  <tbody>\n",
              "    <tr>\n",
              "      <th>0</th>\n",
              "      <td>2059027</td>\n",
              "      <td>male</td>\n",
              "      <td>15</td>\n",
              "      <td>Student</td>\n",
              "      <td>Leo</td>\n",
              "      <td>14,May,2004</td>\n",
              "      <td>info found 100 pages 45 mb pdf files wait unti...</td>\n",
              "      <td>[male, 15, Student, Leo]</td>\n",
              "    </tr>\n",
              "    <tr>\n",
              "      <th>1</th>\n",
              "      <td>2059027</td>\n",
              "      <td>male</td>\n",
              "      <td>15</td>\n",
              "      <td>Student</td>\n",
              "      <td>Leo</td>\n",
              "      <td>13,May,2004</td>\n",
              "      <td>team members drewes van der laag urllink mail ...</td>\n",
              "      <td>[male, 15, Student, Leo]</td>\n",
              "    </tr>\n",
              "    <tr>\n",
              "      <th>2</th>\n",
              "      <td>2059027</td>\n",
              "      <td>male</td>\n",
              "      <td>15</td>\n",
              "      <td>Student</td>\n",
              "      <td>Leo</td>\n",
              "      <td>12,May,2004</td>\n",
              "      <td>het kader van kernfusie op aarde maak je eigen...</td>\n",
              "      <td>[male, 15, Student, Leo]</td>\n",
              "    </tr>\n",
              "    <tr>\n",
              "      <th>3</th>\n",
              "      <td>2059027</td>\n",
              "      <td>male</td>\n",
              "      <td>15</td>\n",
              "      <td>Student</td>\n",
              "      <td>Leo</td>\n",
              "      <td>12,May,2004</td>\n",
              "      <td>testing testing</td>\n",
              "      <td>[male, 15, Student, Leo]</td>\n",
              "    </tr>\n",
              "    <tr>\n",
              "      <th>4</th>\n",
              "      <td>3581210</td>\n",
              "      <td>male</td>\n",
              "      <td>33</td>\n",
              "      <td>InvestmentBanking</td>\n",
              "      <td>Aquarius</td>\n",
              "      <td>11,June,2004</td>\n",
              "      <td>thanks yahoos toolbar capture urls popupswhich...</td>\n",
              "      <td>[male, 33, InvestmentBanking, Aquarius]</td>\n",
              "    </tr>\n",
              "  </tbody>\n",
              "</table>\n",
              "</div>\n",
              "      <button class=\"colab-df-convert\" onclick=\"convertToInteractive('df-72021942-8f79-4dd9-acd2-1dfc83fd8cb1')\"\n",
              "              title=\"Convert this dataframe to an interactive table.\"\n",
              "              style=\"display:none;\">\n",
              "        \n",
              "  <svg xmlns=\"http://www.w3.org/2000/svg\" height=\"24px\"viewBox=\"0 0 24 24\"\n",
              "       width=\"24px\">\n",
              "    <path d=\"M0 0h24v24H0V0z\" fill=\"none\"/>\n",
              "    <path d=\"M18.56 5.44l.94 2.06.94-2.06 2.06-.94-2.06-.94-.94-2.06-.94 2.06-2.06.94zm-11 1L8.5 8.5l.94-2.06 2.06-.94-2.06-.94L8.5 2.5l-.94 2.06-2.06.94zm10 10l.94 2.06.94-2.06 2.06-.94-2.06-.94-.94-2.06-.94 2.06-2.06.94z\"/><path d=\"M17.41 7.96l-1.37-1.37c-.4-.4-.92-.59-1.43-.59-.52 0-1.04.2-1.43.59L10.3 9.45l-7.72 7.72c-.78.78-.78 2.05 0 2.83L4 21.41c.39.39.9.59 1.41.59.51 0 1.02-.2 1.41-.59l7.78-7.78 2.81-2.81c.8-.78.8-2.07 0-2.86zM5.41 20L4 18.59l7.72-7.72 1.47 1.35L5.41 20z\"/>\n",
              "  </svg>\n",
              "      </button>\n",
              "      \n",
              "  <style>\n",
              "    .colab-df-container {\n",
              "      display:flex;\n",
              "      flex-wrap:wrap;\n",
              "      gap: 12px;\n",
              "    }\n",
              "\n",
              "    .colab-df-convert {\n",
              "      background-color: #E8F0FE;\n",
              "      border: none;\n",
              "      border-radius: 50%;\n",
              "      cursor: pointer;\n",
              "      display: none;\n",
              "      fill: #1967D2;\n",
              "      height: 32px;\n",
              "      padding: 0 0 0 0;\n",
              "      width: 32px;\n",
              "    }\n",
              "\n",
              "    .colab-df-convert:hover {\n",
              "      background-color: #E2EBFA;\n",
              "      box-shadow: 0px 1px 2px rgba(60, 64, 67, 0.3), 0px 1px 3px 1px rgba(60, 64, 67, 0.15);\n",
              "      fill: #174EA6;\n",
              "    }\n",
              "\n",
              "    [theme=dark] .colab-df-convert {\n",
              "      background-color: #3B4455;\n",
              "      fill: #D2E3FC;\n",
              "    }\n",
              "\n",
              "    [theme=dark] .colab-df-convert:hover {\n",
              "      background-color: #434B5C;\n",
              "      box-shadow: 0px 1px 3px 1px rgba(0, 0, 0, 0.15);\n",
              "      filter: drop-shadow(0px 1px 2px rgba(0, 0, 0, 0.3));\n",
              "      fill: #FFFFFF;\n",
              "    }\n",
              "  </style>\n",
              "\n",
              "      <script>\n",
              "        const buttonEl =\n",
              "          document.querySelector('#df-72021942-8f79-4dd9-acd2-1dfc83fd8cb1 button.colab-df-convert');\n",
              "        buttonEl.style.display =\n",
              "          google.colab.kernel.accessAllowed ? 'block' : 'none';\n",
              "\n",
              "        async function convertToInteractive(key) {\n",
              "          const element = document.querySelector('#df-72021942-8f79-4dd9-acd2-1dfc83fd8cb1');\n",
              "          const dataTable =\n",
              "            await google.colab.kernel.invokeFunction('convertToInteractive',\n",
              "                                                     [key], {});\n",
              "          if (!dataTable) return;\n",
              "\n",
              "          const docLinkHtml = 'Like what you see? Visit the ' +\n",
              "            '<a target=\"_blank\" href=https://colab.research.google.com/notebooks/data_table.ipynb>data table notebook</a>'\n",
              "            + ' to learn more about interactive tables.';\n",
              "          element.innerHTML = '';\n",
              "          dataTable['output_type'] = 'display_data';\n",
              "          await google.colab.output.renderOutput(dataTable, element);\n",
              "          const docLink = document.createElement('div');\n",
              "          docLink.innerHTML = docLinkHtml;\n",
              "          element.appendChild(docLink);\n",
              "        }\n",
              "      </script>\n",
              "    </div>\n",
              "  </div>\n",
              "  "
            ],
            "text/plain": [
              "        id gender  age              topic      sign          date  \\\n",
              "0  2059027   male   15            Student       Leo   14,May,2004   \n",
              "1  2059027   male   15            Student       Leo   13,May,2004   \n",
              "2  2059027   male   15            Student       Leo   12,May,2004   \n",
              "3  2059027   male   15            Student       Leo   12,May,2004   \n",
              "4  3581210   male   33  InvestmentBanking  Aquarius  11,June,2004   \n",
              "\n",
              "                                                text  \\\n",
              "0  info found 100 pages 45 mb pdf files wait unti...   \n",
              "1  team members drewes van der laag urllink mail ...   \n",
              "2  het kader van kernfusie op aarde maak je eigen...   \n",
              "3                                    testing testing   \n",
              "4  thanks yahoos toolbar capture urls popupswhich...   \n",
              "\n",
              "                               multi_label  \n",
              "0                 [male, 15, Student, Leo]  \n",
              "1                 [male, 15, Student, Leo]  \n",
              "2                 [male, 15, Student, Leo]  \n",
              "3                 [male, 15, Student, Leo]  \n",
              "4  [male, 33, InvestmentBanking, Aquarius]  "
            ]
          },
          "metadata": {},
          "execution_count": 18
        }
      ],
      "source": [
        "# Merging relevant columns as we are interested in Multi Label Classification\n",
        "\n",
        "blog_data['multi_label'] = blog_data.apply(lambda col : [col['gender'], col['age'], col['topic'], col['sign']], axis=1)\n",
        "blog_data.head()"
      ]
    },
    {
      "cell_type": "code",
      "execution_count": 19,
      "id": "d756fe29",
      "metadata": {
        "colab": {
          "base_uri": "https://localhost:8080/",
          "height": 206
        },
        "id": "d756fe29",
        "outputId": "121c61ed-6b40-46e6-a21d-1272a7dff620"
      },
      "outputs": [
        {
          "output_type": "execute_result",
          "data": {
            "text/html": [
              "\n",
              "  <div id=\"df-e062c4d9-17e0-4c1a-8e60-5bc178839b50\">\n",
              "    <div class=\"colab-df-container\">\n",
              "      <div>\n",
              "<style scoped>\n",
              "    .dataframe tbody tr th:only-of-type {\n",
              "        vertical-align: middle;\n",
              "    }\n",
              "\n",
              "    .dataframe tbody tr th {\n",
              "        vertical-align: top;\n",
              "    }\n",
              "\n",
              "    .dataframe thead th {\n",
              "        text-align: right;\n",
              "    }\n",
              "</style>\n",
              "<table border=\"1\" class=\"dataframe\">\n",
              "  <thead>\n",
              "    <tr style=\"text-align: right;\">\n",
              "      <th></th>\n",
              "      <th>id</th>\n",
              "      <th>gender</th>\n",
              "      <th>age</th>\n",
              "      <th>topic</th>\n",
              "      <th>sign</th>\n",
              "      <th>date</th>\n",
              "      <th>text</th>\n",
              "      <th>multi_label</th>\n",
              "    </tr>\n",
              "  </thead>\n",
              "  <tbody>\n",
              "    <tr>\n",
              "      <th>0</th>\n",
              "      <td>2059027</td>\n",
              "      <td>male</td>\n",
              "      <td>15</td>\n",
              "      <td>Student</td>\n",
              "      <td>Leo</td>\n",
              "      <td>14,May,2004</td>\n",
              "      <td>info found 100 pages 45 mb pdf files wait unti...</td>\n",
              "      <td>[male, 15, Student, Leo]</td>\n",
              "    </tr>\n",
              "    <tr>\n",
              "      <th>1</th>\n",
              "      <td>2059027</td>\n",
              "      <td>male</td>\n",
              "      <td>15</td>\n",
              "      <td>Student</td>\n",
              "      <td>Leo</td>\n",
              "      <td>13,May,2004</td>\n",
              "      <td>team members drewes van der laag urllink mail ...</td>\n",
              "      <td>[male, 15, Student, Leo]</td>\n",
              "    </tr>\n",
              "    <tr>\n",
              "      <th>2</th>\n",
              "      <td>2059027</td>\n",
              "      <td>male</td>\n",
              "      <td>15</td>\n",
              "      <td>Student</td>\n",
              "      <td>Leo</td>\n",
              "      <td>12,May,2004</td>\n",
              "      <td>het kader van kernfusie op aarde maak je eigen...</td>\n",
              "      <td>[male, 15, Student, Leo]</td>\n",
              "    </tr>\n",
              "    <tr>\n",
              "      <th>3</th>\n",
              "      <td>2059027</td>\n",
              "      <td>male</td>\n",
              "      <td>15</td>\n",
              "      <td>Student</td>\n",
              "      <td>Leo</td>\n",
              "      <td>12,May,2004</td>\n",
              "      <td>testing testing</td>\n",
              "      <td>[male, 15, Student, Leo]</td>\n",
              "    </tr>\n",
              "    <tr>\n",
              "      <th>4</th>\n",
              "      <td>3581210</td>\n",
              "      <td>male</td>\n",
              "      <td>33</td>\n",
              "      <td>InvestmentBanking</td>\n",
              "      <td>Aquarius</td>\n",
              "      <td>11,June,2004</td>\n",
              "      <td>thanks yahoos toolbar capture urls popupswhich...</td>\n",
              "      <td>[male, 33, InvestmentBanking, Aquarius]</td>\n",
              "    </tr>\n",
              "  </tbody>\n",
              "</table>\n",
              "</div>\n",
              "      <button class=\"colab-df-convert\" onclick=\"convertToInteractive('df-e062c4d9-17e0-4c1a-8e60-5bc178839b50')\"\n",
              "              title=\"Convert this dataframe to an interactive table.\"\n",
              "              style=\"display:none;\">\n",
              "        \n",
              "  <svg xmlns=\"http://www.w3.org/2000/svg\" height=\"24px\"viewBox=\"0 0 24 24\"\n",
              "       width=\"24px\">\n",
              "    <path d=\"M0 0h24v24H0V0z\" fill=\"none\"/>\n",
              "    <path d=\"M18.56 5.44l.94 2.06.94-2.06 2.06-.94-2.06-.94-.94-2.06-.94 2.06-2.06.94zm-11 1L8.5 8.5l.94-2.06 2.06-.94-2.06-.94L8.5 2.5l-.94 2.06-2.06.94zm10 10l.94 2.06.94-2.06 2.06-.94-2.06-.94-.94-2.06-.94 2.06-2.06.94z\"/><path d=\"M17.41 7.96l-1.37-1.37c-.4-.4-.92-.59-1.43-.59-.52 0-1.04.2-1.43.59L10.3 9.45l-7.72 7.72c-.78.78-.78 2.05 0 2.83L4 21.41c.39.39.9.59 1.41.59.51 0 1.02-.2 1.41-.59l7.78-7.78 2.81-2.81c.8-.78.8-2.07 0-2.86zM5.41 20L4 18.59l7.72-7.72 1.47 1.35L5.41 20z\"/>\n",
              "  </svg>\n",
              "      </button>\n",
              "      \n",
              "  <style>\n",
              "    .colab-df-container {\n",
              "      display:flex;\n",
              "      flex-wrap:wrap;\n",
              "      gap: 12px;\n",
              "    }\n",
              "\n",
              "    .colab-df-convert {\n",
              "      background-color: #E8F0FE;\n",
              "      border: none;\n",
              "      border-radius: 50%;\n",
              "      cursor: pointer;\n",
              "      display: none;\n",
              "      fill: #1967D2;\n",
              "      height: 32px;\n",
              "      padding: 0 0 0 0;\n",
              "      width: 32px;\n",
              "    }\n",
              "\n",
              "    .colab-df-convert:hover {\n",
              "      background-color: #E2EBFA;\n",
              "      box-shadow: 0px 1px 2px rgba(60, 64, 67, 0.3), 0px 1px 3px 1px rgba(60, 64, 67, 0.15);\n",
              "      fill: #174EA6;\n",
              "    }\n",
              "\n",
              "    [theme=dark] .colab-df-convert {\n",
              "      background-color: #3B4455;\n",
              "      fill: #D2E3FC;\n",
              "    }\n",
              "\n",
              "    [theme=dark] .colab-df-convert:hover {\n",
              "      background-color: #434B5C;\n",
              "      box-shadow: 0px 1px 3px 1px rgba(0, 0, 0, 0.15);\n",
              "      filter: drop-shadow(0px 1px 2px rgba(0, 0, 0, 0.3));\n",
              "      fill: #FFFFFF;\n",
              "    }\n",
              "  </style>\n",
              "\n",
              "      <script>\n",
              "        const buttonEl =\n",
              "          document.querySelector('#df-e062c4d9-17e0-4c1a-8e60-5bc178839b50 button.colab-df-convert');\n",
              "        buttonEl.style.display =\n",
              "          google.colab.kernel.accessAllowed ? 'block' : 'none';\n",
              "\n",
              "        async function convertToInteractive(key) {\n",
              "          const element = document.querySelector('#df-e062c4d9-17e0-4c1a-8e60-5bc178839b50');\n",
              "          const dataTable =\n",
              "            await google.colab.kernel.invokeFunction('convertToInteractive',\n",
              "                                                     [key], {});\n",
              "          if (!dataTable) return;\n",
              "\n",
              "          const docLinkHtml = 'Like what you see? Visit the ' +\n",
              "            '<a target=\"_blank\" href=https://colab.research.google.com/notebooks/data_table.ipynb>data table notebook</a>'\n",
              "            + ' to learn more about interactive tables.';\n",
              "          element.innerHTML = '';\n",
              "          dataTable['output_type'] = 'display_data';\n",
              "          await google.colab.output.renderOutput(dataTable, element);\n",
              "          const docLink = document.createElement('div');\n",
              "          docLink.innerHTML = docLinkHtml;\n",
              "          element.appendChild(docLink);\n",
              "        }\n",
              "      </script>\n",
              "    </div>\n",
              "  </div>\n",
              "  "
            ],
            "text/plain": [
              "        id gender  age              topic      sign          date  \\\n",
              "0  2059027   male   15            Student       Leo   14,May,2004   \n",
              "1  2059027   male   15            Student       Leo   13,May,2004   \n",
              "2  2059027   male   15            Student       Leo   12,May,2004   \n",
              "3  2059027   male   15            Student       Leo   12,May,2004   \n",
              "4  3581210   male   33  InvestmentBanking  Aquarius  11,June,2004   \n",
              "\n",
              "                                                text  \\\n",
              "0  info found 100 pages 45 mb pdf files wait unti...   \n",
              "1  team members drewes van der laag urllink mail ...   \n",
              "2  het kader van kernfusie op aarde maak je eigen...   \n",
              "3                                    testing testing   \n",
              "4  thanks yahoos toolbar capture urls popupswhich...   \n",
              "\n",
              "                               multi_label  \n",
              "0                 [male, 15, Student, Leo]  \n",
              "1                 [male, 15, Student, Leo]  \n",
              "2                 [male, 15, Student, Leo]  \n",
              "3                 [male, 15, Student, Leo]  \n",
              "4  [male, 33, InvestmentBanking, Aquarius]  "
            ]
          },
          "metadata": {},
          "execution_count": 19
        }
      ],
      "source": [
        "# Displaying data for analysing the columns that needs to be filtered out\n",
        "\n",
        "blog_data.head()"
      ]
    },
    {
      "cell_type": "code",
      "execution_count": 20,
      "id": "dd998d8d",
      "metadata": {
        "colab": {
          "base_uri": "https://localhost:8080/",
          "height": 206
        },
        "id": "dd998d8d",
        "outputId": "cb0dd42c-b1d2-404d-b9f2-00ec6cc4d8cd"
      },
      "outputs": [
        {
          "output_type": "execute_result",
          "data": {
            "text/html": [
              "\n",
              "  <div id=\"df-1c776d03-a77d-4aec-b4ca-13970c55df44\">\n",
              "    <div class=\"colab-df-container\">\n",
              "      <div>\n",
              "<style scoped>\n",
              "    .dataframe tbody tr th:only-of-type {\n",
              "        vertical-align: middle;\n",
              "    }\n",
              "\n",
              "    .dataframe tbody tr th {\n",
              "        vertical-align: top;\n",
              "    }\n",
              "\n",
              "    .dataframe thead th {\n",
              "        text-align: right;\n",
              "    }\n",
              "</style>\n",
              "<table border=\"1\" class=\"dataframe\">\n",
              "  <thead>\n",
              "    <tr style=\"text-align: right;\">\n",
              "      <th></th>\n",
              "      <th>text</th>\n",
              "      <th>multi_label</th>\n",
              "    </tr>\n",
              "  </thead>\n",
              "  <tbody>\n",
              "    <tr>\n",
              "      <th>0</th>\n",
              "      <td>info found 100 pages 45 mb pdf files wait unti...</td>\n",
              "      <td>[male, 15, Student, Leo]</td>\n",
              "    </tr>\n",
              "    <tr>\n",
              "      <th>1</th>\n",
              "      <td>team members drewes van der laag urllink mail ...</td>\n",
              "      <td>[male, 15, Student, Leo]</td>\n",
              "    </tr>\n",
              "    <tr>\n",
              "      <th>2</th>\n",
              "      <td>het kader van kernfusie op aarde maak je eigen...</td>\n",
              "      <td>[male, 15, Student, Leo]</td>\n",
              "    </tr>\n",
              "    <tr>\n",
              "      <th>3</th>\n",
              "      <td>testing testing</td>\n",
              "      <td>[male, 15, Student, Leo]</td>\n",
              "    </tr>\n",
              "    <tr>\n",
              "      <th>4</th>\n",
              "      <td>thanks yahoos toolbar capture urls popupswhich...</td>\n",
              "      <td>[male, 33, InvestmentBanking, Aquarius]</td>\n",
              "    </tr>\n",
              "  </tbody>\n",
              "</table>\n",
              "</div>\n",
              "      <button class=\"colab-df-convert\" onclick=\"convertToInteractive('df-1c776d03-a77d-4aec-b4ca-13970c55df44')\"\n",
              "              title=\"Convert this dataframe to an interactive table.\"\n",
              "              style=\"display:none;\">\n",
              "        \n",
              "  <svg xmlns=\"http://www.w3.org/2000/svg\" height=\"24px\"viewBox=\"0 0 24 24\"\n",
              "       width=\"24px\">\n",
              "    <path d=\"M0 0h24v24H0V0z\" fill=\"none\"/>\n",
              "    <path d=\"M18.56 5.44l.94 2.06.94-2.06 2.06-.94-2.06-.94-.94-2.06-.94 2.06-2.06.94zm-11 1L8.5 8.5l.94-2.06 2.06-.94-2.06-.94L8.5 2.5l-.94 2.06-2.06.94zm10 10l.94 2.06.94-2.06 2.06-.94-2.06-.94-.94-2.06-.94 2.06-2.06.94z\"/><path d=\"M17.41 7.96l-1.37-1.37c-.4-.4-.92-.59-1.43-.59-.52 0-1.04.2-1.43.59L10.3 9.45l-7.72 7.72c-.78.78-.78 2.05 0 2.83L4 21.41c.39.39.9.59 1.41.59.51 0 1.02-.2 1.41-.59l7.78-7.78 2.81-2.81c.8-.78.8-2.07 0-2.86zM5.41 20L4 18.59l7.72-7.72 1.47 1.35L5.41 20z\"/>\n",
              "  </svg>\n",
              "      </button>\n",
              "      \n",
              "  <style>\n",
              "    .colab-df-container {\n",
              "      display:flex;\n",
              "      flex-wrap:wrap;\n",
              "      gap: 12px;\n",
              "    }\n",
              "\n",
              "    .colab-df-convert {\n",
              "      background-color: #E8F0FE;\n",
              "      border: none;\n",
              "      border-radius: 50%;\n",
              "      cursor: pointer;\n",
              "      display: none;\n",
              "      fill: #1967D2;\n",
              "      height: 32px;\n",
              "      padding: 0 0 0 0;\n",
              "      width: 32px;\n",
              "    }\n",
              "\n",
              "    .colab-df-convert:hover {\n",
              "      background-color: #E2EBFA;\n",
              "      box-shadow: 0px 1px 2px rgba(60, 64, 67, 0.3), 0px 1px 3px 1px rgba(60, 64, 67, 0.15);\n",
              "      fill: #174EA6;\n",
              "    }\n",
              "\n",
              "    [theme=dark] .colab-df-convert {\n",
              "      background-color: #3B4455;\n",
              "      fill: #D2E3FC;\n",
              "    }\n",
              "\n",
              "    [theme=dark] .colab-df-convert:hover {\n",
              "      background-color: #434B5C;\n",
              "      box-shadow: 0px 1px 3px 1px rgba(0, 0, 0, 0.15);\n",
              "      filter: drop-shadow(0px 1px 2px rgba(0, 0, 0, 0.3));\n",
              "      fill: #FFFFFF;\n",
              "    }\n",
              "  </style>\n",
              "\n",
              "      <script>\n",
              "        const buttonEl =\n",
              "          document.querySelector('#df-1c776d03-a77d-4aec-b4ca-13970c55df44 button.colab-df-convert');\n",
              "        buttonEl.style.display =\n",
              "          google.colab.kernel.accessAllowed ? 'block' : 'none';\n",
              "\n",
              "        async function convertToInteractive(key) {\n",
              "          const element = document.querySelector('#df-1c776d03-a77d-4aec-b4ca-13970c55df44');\n",
              "          const dataTable =\n",
              "            await google.colab.kernel.invokeFunction('convertToInteractive',\n",
              "                                                     [key], {});\n",
              "          if (!dataTable) return;\n",
              "\n",
              "          const docLinkHtml = 'Like what you see? Visit the ' +\n",
              "            '<a target=\"_blank\" href=https://colab.research.google.com/notebooks/data_table.ipynb>data table notebook</a>'\n",
              "            + ' to learn more about interactive tables.';\n",
              "          element.innerHTML = '';\n",
              "          dataTable['output_type'] = 'display_data';\n",
              "          await google.colab.output.renderOutput(dataTable, element);\n",
              "          const docLink = document.createElement('div');\n",
              "          docLink.innerHTML = docLinkHtml;\n",
              "          element.appendChild(docLink);\n",
              "        }\n",
              "      </script>\n",
              "    </div>\n",
              "  </div>\n",
              "  "
            ],
            "text/plain": [
              "                                                text  \\\n",
              "0  info found 100 pages 45 mb pdf files wait unti...   \n",
              "1  team members drewes van der laag urllink mail ...   \n",
              "2  het kader van kernfusie op aarde maak je eigen...   \n",
              "3                                    testing testing   \n",
              "4  thanks yahoos toolbar capture urls popupswhich...   \n",
              "\n",
              "                               multi_label  \n",
              "0                 [male, 15, Student, Leo]  \n",
              "1                 [male, 15, Student, Leo]  \n",
              "2                 [male, 15, Student, Leo]  \n",
              "3                 [male, 15, Student, Leo]  \n",
              "4  [male, 33, InvestmentBanking, Aquarius]  "
            ]
          },
          "metadata": {},
          "execution_count": 20
        }
      ],
      "source": [
        "# Dropping irrelevant columns\n",
        "\n",
        "blog_data.drop(labels=['id', 'gender', 'age', 'topic', 'sign', 'date'], axis=1, inplace=True)\n",
        "blog_data.head(5)"
      ]
    },
    {
      "cell_type": "code",
      "execution_count": 21,
      "id": "86517b9e",
      "metadata": {
        "id": "86517b9e"
      },
      "outputs": [],
      "source": [
        "# Splitting the data as features and labels\n",
        "\n",
        "X = blog_data['text']\n",
        "y = blog_data['multi_label']"
      ]
    },
    {
      "cell_type": "code",
      "execution_count": 22,
      "id": "f9ed330a",
      "metadata": {
        "id": "f9ed330a"
      },
      "outputs": [],
      "source": [
        "# Splitting the data into training and testing sets\n",
        "\n",
        "X_train, X_test, y_train, y_test = train_test_split(X, y, random_state=101, test_size = 0.25)"
      ]
    },
    {
      "cell_type": "code",
      "execution_count": 23,
      "id": "867a3669",
      "metadata": {
        "colab": {
          "base_uri": "https://localhost:8080/"
        },
        "id": "867a3669",
        "outputId": "e7fadd1c-8fa6-4838-c668-7e6b524fe3f3"
      },
      "outputs": [
        {
          "output_type": "stream",
          "name": "stdout",
          "text": [
            "Training instances are : 8333\n",
            "Validation instances are : 2778\n"
          ]
        }
      ],
      "source": [
        "# Checking the shapes\n",
        "\n",
        "print('Training instances are : {}'.format(X_train.shape[0]))\n",
        "print('Validation instances are : {}'.format(X_test.shape[0]))"
      ]
    },
    {
      "cell_type": "code",
      "execution_count": 24,
      "id": "f903b7c9",
      "metadata": {
        "id": "f903b7c9"
      },
      "outputs": [],
      "source": [
        "# Vectorising the data\n",
        "# Creating Bag of Words\n",
        "\n",
        "vectorizer = CountVectorizer(min_df = 2,ngram_range = (1,2),stop_words = \"english\")\n",
        "vectorizer.fit(X_train)\n",
        "X_train = vectorizer.transform(X_train)\n",
        "X_test = vectorizer.transform(X_test)"
      ]
    },
    {
      "cell_type": "code",
      "execution_count": 25,
      "id": "d4218f0e",
      "metadata": {
        "colab": {
          "base_uri": "https://localhost:8080/"
        },
        "id": "d4218f0e",
        "outputId": "3e8602cc-fa36-417c-fdaa-3535a29e1b9b"
      },
      "outputs": [
        {
          "output_type": "execute_result",
          "data": {
            "text/plain": [
              "72033"
            ]
          },
          "metadata": {},
          "execution_count": 25
        }
      ],
      "source": [
        "# Checking the vocablury size\n",
        "\n",
        "len(vectorizer.vocabulary_)"
      ]
    },
    {
      "cell_type": "code",
      "execution_count": 26,
      "id": "8d45dd5c",
      "metadata": {
        "colab": {
          "base_uri": "https://localhost:8080/"
        },
        "id": "8d45dd5c",
        "outputId": "f52b5942-1915-4410-cef7-94a5826abc52"
      },
      "outputs": [
        {
          "output_type": "execute_result",
          "data": {
            "text/plain": [
              "{'13': 1,\n",
              " '14': 1,\n",
              " '15': 1,\n",
              " '16': 1,\n",
              " '17': 1,\n",
              " '23': 1,\n",
              " '24': 1,\n",
              " '25': 1,\n",
              " '26': 1,\n",
              " '27': 1,\n",
              " '33': 1,\n",
              " '34': 1,\n",
              " '35': 1,\n",
              " '36': 1,\n",
              " '37': 1,\n",
              " '38': 1,\n",
              " '39': 1,\n",
              " '40': 1,\n",
              " '41': 1,\n",
              " '42': 1,\n",
              " '43': 1,\n",
              " '44': 1,\n",
              " '45': 1,\n",
              " '46': 1,\n",
              " '47': 1,\n",
              " 'Accounting': 4,\n",
              " 'Advertising': 5,\n",
              " 'Aquarius': 595,\n",
              " 'Architecture': 39,\n",
              " 'Aries': 4198,\n",
              " 'Arts': 183,\n",
              " 'Automotive': 14,\n",
              " 'Banking': 21,\n",
              " 'BusinessServices': 91,\n",
              " 'Cancer': 877,\n",
              " 'Capricorn': 382,\n",
              " 'Communications-Media': 99,\n",
              " 'Consulting': 21,\n",
              " 'Education': 299,\n",
              " 'Engineering': 127,\n",
              " 'Fashion': 1622,\n",
              " 'Gemini': 194,\n",
              " 'Government': 65,\n",
              " 'HumanResources': 2,\n",
              " 'Internet': 137,\n",
              " 'InvestmentBanking': 70,\n",
              " 'Law': 11,\n",
              " 'LawEnforcement-Security': 46,\n",
              " 'Leo': 303,\n",
              " 'Libra': 491,\n",
              " 'Marketing': 156,\n",
              " 'Military': 16,\n",
              " 'Museums-Libraries': 17,\n",
              " 'Non-Profit': 79,\n",
              " 'Pisces': 469,\n",
              " 'Publishing': 4,\n",
              " 'Religion': 9,\n",
              " 'Sagittarius': 1219,\n",
              " 'Science': 67,\n",
              " 'Scorpio': 1066,\n",
              " 'Sports-Recreation': 80,\n",
              " 'Student': 1340,\n",
              " 'Taurus': 882,\n",
              " 'Technology': 2773,\n",
              " 'Telecommunications': 2,\n",
              " 'Transportation': 46,\n",
              " 'Virgo': 435,\n",
              " 'female': 4627,\n",
              " 'indUnk': 3666,\n",
              " 'male': 6484}"
            ]
          },
          "metadata": {},
          "execution_count": 26
        }
      ],
      "source": [
        "label_counts=dict()\n",
        "\n",
        "for labels in blog_data['multi_label'].values:\n",
        "    for label in labels:\n",
        "        if label in label_counts:\n",
        "            label_counts[str(label)]+=1\n",
        "        else:\n",
        "            label_counts[str(label)]=1\n",
        "\n",
        "label_counts"
      ]
    },
    {
      "cell_type": "code",
      "execution_count": 27,
      "id": "8da01dc8",
      "metadata": {
        "colab": {
          "base_uri": "https://localhost:8080/"
        },
        "id": "8da01dc8",
        "outputId": "999cee4b-3c16-470d-d931-7888dffeac2b"
      },
      "outputs": [
        {
          "output_type": "execute_result",
          "data": {
            "text/plain": [
              "MultiLabelBinarizer(classes=['13', '14', '15', '16', '17', '23', '24', '25',\n",
              "                             '26', '27', '33', '34', '35', '36', '37', '38',\n",
              "                             '39', '40', '41', '42', '43', '44', '45', '46',\n",
              "                             '47', 'Accounting', 'Advertising', 'Aquarius',\n",
              "                             'Architecture', 'Aries', ...])"
            ]
          },
          "metadata": {},
          "execution_count": 27
        }
      ],
      "source": [
        "# Using multi label binarizer as we are solving multi label classification\n",
        "\n",
        "ml_binarizer=MultiLabelBinarizer(classes=sorted(label_counts.keys()))\n",
        "ml_binarizer.fit(y_train)"
      ]
    },
    {
      "cell_type": "code",
      "execution_count": 28,
      "id": "c5e1c5f3",
      "metadata": {
        "colab": {
          "base_uri": "https://localhost:8080/"
        },
        "id": "c5e1c5f3",
        "outputId": "0c7318e9-4667-444b-85b4-eaff0e07318c"
      },
      "outputs": [
        {
          "output_type": "stream",
          "name": "stderr",
          "text": [
            "/usr/local/lib/python3.7/dist-packages/sklearn/preprocessing/_label.py:876: UserWarning: unknown class(es) [13, 14, 15, 16, 17, 23, 24, 25, 26, 27, 33, 34, 35, 36, 37, 38, 39, 40, 41, 42, 43, 44, 45, 46, 47] will be ignored\n",
            "  \"unknown class(es) {0} will be ignored\".format(sorted(unknown, key=str))\n"
          ]
        },
        {
          "output_type": "execute_result",
          "data": {
            "text/plain": [
              "array([[0, 0, 0, ..., 0, 0, 1],\n",
              "       [0, 0, 0, ..., 1, 1, 0],\n",
              "       [0, 0, 0, ..., 0, 0, 1],\n",
              "       ...,\n",
              "       [0, 0, 0, ..., 1, 0, 0],\n",
              "       [0, 0, 0, ..., 1, 0, 0],\n",
              "       [0, 0, 0, ..., 0, 0, 1]])"
            ]
          },
          "metadata": {},
          "execution_count": 28
        }
      ],
      "source": [
        "y_train = ml_binarizer.transform(y_train)\n",
        "y_train"
      ]
    },
    {
      "cell_type": "code",
      "execution_count": 29,
      "id": "dd642c73",
      "metadata": {
        "colab": {
          "base_uri": "https://localhost:8080/"
        },
        "id": "dd642c73",
        "outputId": "d6a40bb0-37de-4704-be04-b4affb221fde"
      },
      "outputs": [
        {
          "output_type": "stream",
          "name": "stderr",
          "text": [
            "/usr/local/lib/python3.7/dist-packages/sklearn/preprocessing/_label.py:876: UserWarning: unknown class(es) [13, 14, 15, 16, 17, 23, 24, 25, 26, 27, 33, 34, 35, 36, 37, 38, 39, 41, 42, 44, 45, 46, 47] will be ignored\n",
            "  \"unknown class(es) {0} will be ignored\".format(sorted(unknown, key=str))\n"
          ]
        },
        {
          "output_type": "execute_result",
          "data": {
            "text/plain": [
              "array([[0, 0, 0, ..., 1, 1, 0],\n",
              "       [0, 0, 0, ..., 1, 1, 0],\n",
              "       [0, 0, 0, ..., 0, 0, 1],\n",
              "       ...,\n",
              "       [0, 0, 0, ..., 0, 0, 1],\n",
              "       [0, 0, 0, ..., 1, 1, 0],\n",
              "       [0, 0, 0, ..., 1, 0, 0]])"
            ]
          },
          "metadata": {},
          "execution_count": 29
        }
      ],
      "source": [
        "y_test = ml_binarizer.transform(y_test)\n",
        "y_test"
      ]
    },
    {
      "cell_type": "markdown",
      "id": "1614451d",
      "metadata": {
        "id": "1614451d"
      },
      "source": [
        "## 3. Design, train, tune and test the best text classifier"
      ]
    },
    {
      "cell_type": "markdown",
      "id": "ad01cdcf",
      "metadata": {
        "id": "ad01cdcf"
      },
      "source": [
        "#### Random Forest with OneVsRestClassifier"
      ]
    },
    {
      "cell_type": "code",
      "execution_count": 30,
      "id": "40f9cf68",
      "metadata": {
        "colab": {
          "base_uri": "https://localhost:8080/"
        },
        "id": "40f9cf68",
        "outputId": "841c4df9-7da8-437f-d04d-cffd5dce4c9c"
      },
      "outputs": [
        {
          "output_type": "stream",
          "name": "stderr",
          "text": [
            "/usr/local/lib/python3.7/dist-packages/sklearn/multiclass.py:80: UserWarning: Label not 0 is present in all training examples.\n",
            "  \"Label %s is present in all training examples.\" % str(classes[c])\n",
            "/usr/local/lib/python3.7/dist-packages/sklearn/multiclass.py:80: UserWarning: Label not 1 is present in all training examples.\n",
            "  \"Label %s is present in all training examples.\" % str(classes[c])\n",
            "/usr/local/lib/python3.7/dist-packages/sklearn/multiclass.py:80: UserWarning: Label not 2 is present in all training examples.\n",
            "  \"Label %s is present in all training examples.\" % str(classes[c])\n",
            "/usr/local/lib/python3.7/dist-packages/sklearn/multiclass.py:80: UserWarning: Label not 3 is present in all training examples.\n",
            "  \"Label %s is present in all training examples.\" % str(classes[c])\n",
            "/usr/local/lib/python3.7/dist-packages/sklearn/multiclass.py:80: UserWarning: Label not 4 is present in all training examples.\n",
            "  \"Label %s is present in all training examples.\" % str(classes[c])\n",
            "/usr/local/lib/python3.7/dist-packages/sklearn/multiclass.py:80: UserWarning: Label not 5 is present in all training examples.\n",
            "  \"Label %s is present in all training examples.\" % str(classes[c])\n",
            "/usr/local/lib/python3.7/dist-packages/sklearn/multiclass.py:80: UserWarning: Label not 6 is present in all training examples.\n",
            "  \"Label %s is present in all training examples.\" % str(classes[c])\n",
            "/usr/local/lib/python3.7/dist-packages/sklearn/multiclass.py:80: UserWarning: Label not 7 is present in all training examples.\n",
            "  \"Label %s is present in all training examples.\" % str(classes[c])\n",
            "/usr/local/lib/python3.7/dist-packages/sklearn/multiclass.py:80: UserWarning: Label not 8 is present in all training examples.\n",
            "  \"Label %s is present in all training examples.\" % str(classes[c])\n",
            "/usr/local/lib/python3.7/dist-packages/sklearn/multiclass.py:80: UserWarning: Label not 9 is present in all training examples.\n",
            "  \"Label %s is present in all training examples.\" % str(classes[c])\n",
            "/usr/local/lib/python3.7/dist-packages/sklearn/multiclass.py:80: UserWarning: Label not 10 is present in all training examples.\n",
            "  \"Label %s is present in all training examples.\" % str(classes[c])\n",
            "/usr/local/lib/python3.7/dist-packages/sklearn/multiclass.py:80: UserWarning: Label not 11 is present in all training examples.\n",
            "  \"Label %s is present in all training examples.\" % str(classes[c])\n",
            "/usr/local/lib/python3.7/dist-packages/sklearn/multiclass.py:80: UserWarning: Label not 12 is present in all training examples.\n",
            "  \"Label %s is present in all training examples.\" % str(classes[c])\n",
            "/usr/local/lib/python3.7/dist-packages/sklearn/multiclass.py:80: UserWarning: Label not 13 is present in all training examples.\n",
            "  \"Label %s is present in all training examples.\" % str(classes[c])\n",
            "/usr/local/lib/python3.7/dist-packages/sklearn/multiclass.py:80: UserWarning: Label not 14 is present in all training examples.\n",
            "  \"Label %s is present in all training examples.\" % str(classes[c])\n",
            "/usr/local/lib/python3.7/dist-packages/sklearn/multiclass.py:80: UserWarning: Label not 15 is present in all training examples.\n",
            "  \"Label %s is present in all training examples.\" % str(classes[c])\n",
            "/usr/local/lib/python3.7/dist-packages/sklearn/multiclass.py:80: UserWarning: Label not 16 is present in all training examples.\n",
            "  \"Label %s is present in all training examples.\" % str(classes[c])\n",
            "/usr/local/lib/python3.7/dist-packages/sklearn/multiclass.py:80: UserWarning: Label not 17 is present in all training examples.\n",
            "  \"Label %s is present in all training examples.\" % str(classes[c])\n",
            "/usr/local/lib/python3.7/dist-packages/sklearn/multiclass.py:80: UserWarning: Label not 18 is present in all training examples.\n",
            "  \"Label %s is present in all training examples.\" % str(classes[c])\n",
            "/usr/local/lib/python3.7/dist-packages/sklearn/multiclass.py:80: UserWarning: Label not 19 is present in all training examples.\n",
            "  \"Label %s is present in all training examples.\" % str(classes[c])\n",
            "/usr/local/lib/python3.7/dist-packages/sklearn/multiclass.py:80: UserWarning: Label not 20 is present in all training examples.\n",
            "  \"Label %s is present in all training examples.\" % str(classes[c])\n",
            "/usr/local/lib/python3.7/dist-packages/sklearn/multiclass.py:80: UserWarning: Label not 21 is present in all training examples.\n",
            "  \"Label %s is present in all training examples.\" % str(classes[c])\n",
            "/usr/local/lib/python3.7/dist-packages/sklearn/multiclass.py:80: UserWarning: Label not 22 is present in all training examples.\n",
            "  \"Label %s is present in all training examples.\" % str(classes[c])\n",
            "/usr/local/lib/python3.7/dist-packages/sklearn/multiclass.py:80: UserWarning: Label not 23 is present in all training examples.\n",
            "  \"Label %s is present in all training examples.\" % str(classes[c])\n",
            "/usr/local/lib/python3.7/dist-packages/sklearn/multiclass.py:80: UserWarning: Label not 24 is present in all training examples.\n",
            "  \"Label %s is present in all training examples.\" % str(classes[c])\n"
          ]
        }
      ],
      "source": [
        "# Training and tuning the model\n",
        "# Please note that the tuning process was done manually in order to save execution time \n",
        "\n",
        "model1 =  RandomForestClassifier(n_estimators=100, random_state = 101) \n",
        "model1 = OneVsRestClassifier(model1)\n",
        "model1.fit(X_train,y_train)\n",
        "y_pred = model1.predict(X_test)"
      ]
    },
    {
      "cell_type": "code",
      "execution_count": 31,
      "id": "10b01968",
      "metadata": {
        "colab": {
          "base_uri": "https://localhost:8080/"
        },
        "id": "10b01968",
        "outputId": "f2a77ca6-2b6a-4c3f-b3eb-081cc6360406"
      },
      "outputs": [
        {
          "output_type": "stream",
          "name": "stdout",
          "text": [
            "Train Accuracy: 0.9871594863794552\n"
          ]
        }
      ],
      "source": [
        "print(\"Train Accuracy:\",model1.score(X_train,y_train))"
      ]
    },
    {
      "cell_type": "code",
      "execution_count": 32,
      "id": "e6e7f27a",
      "metadata": {
        "colab": {
          "base_uri": "https://localhost:8080/"
        },
        "id": "e6e7f27a",
        "outputId": "f8fa3aad-baff-455f-c051-ccd41fbe420c"
      },
      "outputs": [
        {
          "output_type": "stream",
          "name": "stdout",
          "text": [
            "Test Accuracy: 0.17062634989200864\n"
          ]
        }
      ],
      "source": [
        "print(\"Test Accuracy:\",model1.score(X_test,y_test))"
      ]
    },
    {
      "cell_type": "markdown",
      "id": "924a7177",
      "metadata": {
        "id": "924a7177"
      },
      "source": [
        "Here we can see that the model is overfitting"
      ]
    },
    {
      "cell_type": "code",
      "execution_count": 33,
      "id": "1116f56f",
      "metadata": {
        "id": "1116f56f"
      },
      "outputs": [],
      "source": [
        "# # Please note that the tuning process was done manually in order to save execution time\n",
        "# # Code put here is to showcase the capability\n",
        "\n",
        "# # Tuning the hyperparameters\n",
        "\n",
        "# parameters = {\n",
        "#                 'max_depth': [1,5,10,15,20,45],\n",
        "#                 'max_features': ['auto', 'sqrt'],\n",
        "#                 'min_samples_split': [5, 10],\n",
        "#                 'n_estimators': [20, 65, 110, 155, 200]\n",
        "#              }\n",
        "\n",
        "# random_grid = RandomizedSearchCV(estimator=RandomForestClassifier(random_state=101),param_distributions=parameters, \n",
        "#                           scoring='accuracy', verbose=1, n_jobs=-1,cv=5,random_state=101) \n",
        "\n",
        "# random_grid_result = random_grid.fit(X_train, y_train)\n",
        "\n",
        "# print('Best Score: ', random_grid_result.best_score_) \n",
        "# print('Best Params: ', random_grid_result.best_params_) "
      ]
    },
    {
      "cell_type": "code",
      "execution_count": 34,
      "id": "a140ec93",
      "metadata": {
        "colab": {
          "base_uri": "https://localhost:8080/"
        },
        "id": "a140ec93",
        "outputId": "050cd1cb-f875-4171-fdfb-512bf922e48e"
      },
      "outputs": [
        {
          "output_type": "stream",
          "name": "stdout",
          "text": [
            "Classification Report : \n",
            "              precision    recall  f1-score   support\n",
            "\n",
            "           0       0.00      0.00      0.00         0\n",
            "           1       0.00      0.00      0.00         0\n",
            "           2       0.00      0.00      0.00         0\n",
            "           3       0.00      0.00      0.00         0\n",
            "           4       0.00      0.00      0.00         0\n",
            "           5       0.00      0.00      0.00         0\n",
            "           6       0.00      0.00      0.00         0\n",
            "           7       0.00      0.00      0.00         0\n",
            "           8       0.00      0.00      0.00         0\n",
            "           9       0.00      0.00      0.00         0\n",
            "          10       0.00      0.00      0.00         0\n",
            "          11       0.00      0.00      0.00         0\n",
            "          12       0.00      0.00      0.00         0\n",
            "          13       0.00      0.00      0.00         0\n",
            "          14       0.00      0.00      0.00         0\n",
            "          15       0.00      0.00      0.00         0\n",
            "          16       0.00      0.00      0.00         0\n",
            "          17       0.00      0.00      0.00         0\n",
            "          18       0.00      0.00      0.00         0\n",
            "          19       0.00      0.00      0.00         0\n",
            "          20       0.00      0.00      0.00         0\n",
            "          21       0.00      0.00      0.00         0\n",
            "          22       0.00      0.00      0.00         0\n",
            "          23       0.00      0.00      0.00         0\n",
            "          24       0.00      0.00      0.00         0\n",
            "          25       0.00      0.00      0.00         2\n",
            "          26       0.00      0.00      0.00         2\n",
            "          27       0.94      0.20      0.34       157\n",
            "          28       1.00      0.06      0.11        17\n",
            "          29       0.75      0.45      0.56      1031\n",
            "          30       1.00      0.09      0.16        47\n",
            "          31       0.00      0.00      0.00         3\n",
            "          32       0.00      0.00      0.00         5\n",
            "          33       1.00      0.18      0.31        22\n",
            "          34       0.97      0.18      0.31       214\n",
            "          35       0.96      0.24      0.38        96\n",
            "          36       0.00      0.00      0.00        25\n",
            "          37       0.00      0.00      0.00        10\n",
            "          38       0.88      0.09      0.16        81\n",
            "          39       1.00      0.03      0.05        36\n",
            "          40       0.95      0.54      0.69       394\n",
            "          41       0.67      0.10      0.17        40\n",
            "          42       0.00      0.00      0.00        13\n",
            "          43       0.00      0.00      0.00         0\n",
            "          44       0.00      0.00      0.00        35\n",
            "          45       0.00      0.00      0.00        21\n",
            "          46       0.00      0.00      0.00         2\n",
            "          47       0.00      0.00      0.00        11\n",
            "          48       0.00      0.00      0.00        74\n",
            "          49       0.78      0.05      0.10       132\n",
            "          50       1.00      0.18      0.30        39\n",
            "          51       0.00      0.00      0.00         3\n",
            "          52       0.00      0.00      0.00         2\n",
            "          53       0.00      0.00      0.00        17\n",
            "          54       1.00      0.20      0.34       127\n",
            "          55       0.00      0.00      0.00         1\n",
            "          56       0.00      0.00      0.00         1\n",
            "          57       0.97      0.32      0.48       311\n",
            "          58       1.00      0.05      0.10        20\n",
            "          59       0.92      0.12      0.22       273\n",
            "          60       1.00      0.06      0.11        18\n",
            "          61       0.93      0.12      0.21       322\n",
            "          62       0.88      0.10      0.18       220\n",
            "          63       0.74      0.26      0.39       693\n",
            "          64       0.00      0.00      0.00         0\n",
            "          65       0.00      0.00      0.00         8\n",
            "          66       1.00      0.18      0.31       103\n",
            "          67       0.74      0.58      0.65      1177\n",
            "          68       0.91      0.30      0.46       928\n",
            "          69       0.74      0.84      0.79      1601\n",
            "\n",
            "   micro avg       0.78      0.42      0.55      8334\n",
            "   macro avg       0.32      0.08      0.11      8334\n",
            "weighted avg       0.80      0.42      0.50      8334\n",
            " samples avg       0.72      0.42      0.51      8334\n",
            "\n"
          ]
        },
        {
          "output_type": "stream",
          "name": "stderr",
          "text": [
            "/usr/local/lib/python3.7/dist-packages/sklearn/metrics/_classification.py:1318: UndefinedMetricWarning: Precision and F-score are ill-defined and being set to 0.0 in labels with no predicted samples. Use `zero_division` parameter to control this behavior.\n",
            "  _warn_prf(average, modifier, msg_start, len(result))\n",
            "/usr/local/lib/python3.7/dist-packages/sklearn/metrics/_classification.py:1318: UndefinedMetricWarning: Recall and F-score are ill-defined and being set to 0.0 in labels with no true samples. Use `zero_division` parameter to control this behavior.\n",
            "  _warn_prf(average, modifier, msg_start, len(result))\n",
            "/usr/local/lib/python3.7/dist-packages/sklearn/metrics/_classification.py:1318: UndefinedMetricWarning: Precision and F-score are ill-defined and being set to 0.0 in samples with no predicted labels. Use `zero_division` parameter to control this behavior.\n",
            "  _warn_prf(average, modifier, msg_start, len(result))\n"
          ]
        }
      ],
      "source": [
        "# Classification Report\n",
        "\n",
        "print(\"Classification Report : \")\n",
        "print(classification_report(y_test, y_pred))"
      ]
    },
    {
      "cell_type": "markdown",
      "id": "89099cd1",
      "metadata": {
        "id": "89099cd1"
      },
      "source": [
        "#### Logistic Regression with OneVsRestClassifier"
      ]
    },
    {
      "cell_type": "code",
      "execution_count": 35,
      "id": "9934f007",
      "metadata": {
        "colab": {
          "base_uri": "https://localhost:8080/"
        },
        "id": "9934f007",
        "outputId": "d10ac788-8927-4675-b74e-15912f35e196"
      },
      "outputs": [
        {
          "output_type": "stream",
          "name": "stderr",
          "text": [
            "/usr/local/lib/python3.7/dist-packages/sklearn/multiclass.py:80: UserWarning: Label not 0 is present in all training examples.\n",
            "  \"Label %s is present in all training examples.\" % str(classes[c])\n",
            "/usr/local/lib/python3.7/dist-packages/sklearn/multiclass.py:80: UserWarning: Label not 1 is present in all training examples.\n",
            "  \"Label %s is present in all training examples.\" % str(classes[c])\n",
            "/usr/local/lib/python3.7/dist-packages/sklearn/multiclass.py:80: UserWarning: Label not 2 is present in all training examples.\n",
            "  \"Label %s is present in all training examples.\" % str(classes[c])\n",
            "/usr/local/lib/python3.7/dist-packages/sklearn/multiclass.py:80: UserWarning: Label not 3 is present in all training examples.\n",
            "  \"Label %s is present in all training examples.\" % str(classes[c])\n",
            "/usr/local/lib/python3.7/dist-packages/sklearn/multiclass.py:80: UserWarning: Label not 4 is present in all training examples.\n",
            "  \"Label %s is present in all training examples.\" % str(classes[c])\n",
            "/usr/local/lib/python3.7/dist-packages/sklearn/multiclass.py:80: UserWarning: Label not 5 is present in all training examples.\n",
            "  \"Label %s is present in all training examples.\" % str(classes[c])\n",
            "/usr/local/lib/python3.7/dist-packages/sklearn/multiclass.py:80: UserWarning: Label not 6 is present in all training examples.\n",
            "  \"Label %s is present in all training examples.\" % str(classes[c])\n",
            "/usr/local/lib/python3.7/dist-packages/sklearn/multiclass.py:80: UserWarning: Label not 7 is present in all training examples.\n",
            "  \"Label %s is present in all training examples.\" % str(classes[c])\n",
            "/usr/local/lib/python3.7/dist-packages/sklearn/multiclass.py:80: UserWarning: Label not 8 is present in all training examples.\n",
            "  \"Label %s is present in all training examples.\" % str(classes[c])\n",
            "/usr/local/lib/python3.7/dist-packages/sklearn/multiclass.py:80: UserWarning: Label not 9 is present in all training examples.\n",
            "  \"Label %s is present in all training examples.\" % str(classes[c])\n",
            "/usr/local/lib/python3.7/dist-packages/sklearn/multiclass.py:80: UserWarning: Label not 10 is present in all training examples.\n",
            "  \"Label %s is present in all training examples.\" % str(classes[c])\n",
            "/usr/local/lib/python3.7/dist-packages/sklearn/multiclass.py:80: UserWarning: Label not 11 is present in all training examples.\n",
            "  \"Label %s is present in all training examples.\" % str(classes[c])\n",
            "/usr/local/lib/python3.7/dist-packages/sklearn/multiclass.py:80: UserWarning: Label not 12 is present in all training examples.\n",
            "  \"Label %s is present in all training examples.\" % str(classes[c])\n",
            "/usr/local/lib/python3.7/dist-packages/sklearn/multiclass.py:80: UserWarning: Label not 13 is present in all training examples.\n",
            "  \"Label %s is present in all training examples.\" % str(classes[c])\n",
            "/usr/local/lib/python3.7/dist-packages/sklearn/multiclass.py:80: UserWarning: Label not 14 is present in all training examples.\n",
            "  \"Label %s is present in all training examples.\" % str(classes[c])\n",
            "/usr/local/lib/python3.7/dist-packages/sklearn/multiclass.py:80: UserWarning: Label not 15 is present in all training examples.\n",
            "  \"Label %s is present in all training examples.\" % str(classes[c])\n",
            "/usr/local/lib/python3.7/dist-packages/sklearn/multiclass.py:80: UserWarning: Label not 16 is present in all training examples.\n",
            "  \"Label %s is present in all training examples.\" % str(classes[c])\n",
            "/usr/local/lib/python3.7/dist-packages/sklearn/multiclass.py:80: UserWarning: Label not 17 is present in all training examples.\n",
            "  \"Label %s is present in all training examples.\" % str(classes[c])\n",
            "/usr/local/lib/python3.7/dist-packages/sklearn/multiclass.py:80: UserWarning: Label not 18 is present in all training examples.\n",
            "  \"Label %s is present in all training examples.\" % str(classes[c])\n",
            "/usr/local/lib/python3.7/dist-packages/sklearn/multiclass.py:80: UserWarning: Label not 19 is present in all training examples.\n",
            "  \"Label %s is present in all training examples.\" % str(classes[c])\n",
            "/usr/local/lib/python3.7/dist-packages/sklearn/multiclass.py:80: UserWarning: Label not 20 is present in all training examples.\n",
            "  \"Label %s is present in all training examples.\" % str(classes[c])\n",
            "/usr/local/lib/python3.7/dist-packages/sklearn/multiclass.py:80: UserWarning: Label not 21 is present in all training examples.\n",
            "  \"Label %s is present in all training examples.\" % str(classes[c])\n",
            "/usr/local/lib/python3.7/dist-packages/sklearn/multiclass.py:80: UserWarning: Label not 22 is present in all training examples.\n",
            "  \"Label %s is present in all training examples.\" % str(classes[c])\n",
            "/usr/local/lib/python3.7/dist-packages/sklearn/multiclass.py:80: UserWarning: Label not 23 is present in all training examples.\n",
            "  \"Label %s is present in all training examples.\" % str(classes[c])\n",
            "/usr/local/lib/python3.7/dist-packages/sklearn/multiclass.py:80: UserWarning: Label not 24 is present in all training examples.\n",
            "  \"Label %s is present in all training examples.\" % str(classes[c])\n"
          ]
        }
      ],
      "source": [
        "# Training and tuning the model\n",
        "# Please note that the tuning process was done manually in order to save execution time \n",
        "\n",
        "model1 = LogisticRegression(C=4.0, penalty='l2', dual=False, solver='liblinear', random_state=101, max_iter=1000) \n",
        "model1 = OneVsRestClassifier(model1)\n",
        "model1.fit(X_train,y_train)\n",
        "y_pred = model1.predict(X_test)"
      ]
    },
    {
      "cell_type": "code",
      "execution_count": 36,
      "id": "f2a35d29",
      "metadata": {
        "colab": {
          "base_uri": "https://localhost:8080/"
        },
        "id": "f2a35d29",
        "outputId": "352f6c58-699c-4515-b2bf-c3da62098baa"
      },
      "outputs": [
        {
          "output_type": "stream",
          "name": "stdout",
          "text": [
            "Train Accuracy: 0.9566782671306853\n"
          ]
        }
      ],
      "source": [
        "print(\"Train Accuracy:\",model1.score(X_train,y_train))"
      ]
    },
    {
      "cell_type": "code",
      "execution_count": 37,
      "id": "bcb708b0",
      "metadata": {
        "colab": {
          "base_uri": "https://localhost:8080/"
        },
        "id": "bcb708b0",
        "outputId": "02d373a3-c08b-4ea4-ca49-d0da6b6fdf62"
      },
      "outputs": [
        {
          "output_type": "stream",
          "name": "stdout",
          "text": [
            "Test Accuracy: 0.2609791216702664\n"
          ]
        }
      ],
      "source": [
        "print(\"Test Accuracy:\",model1.score(X_test,y_test))"
      ]
    },
    {
      "cell_type": "markdown",
      "id": "2dae2405",
      "metadata": {
        "id": "2dae2405"
      },
      "source": [
        "Here we can see that the model is overfitting"
      ]
    },
    {
      "cell_type": "code",
      "execution_count": 38,
      "id": "2428da0d",
      "metadata": {
        "id": "2428da0d"
      },
      "outputs": [],
      "source": [
        "# # Please note that the tuning process was done manually in order to save execution time\n",
        "# # Code put here is to showcase the capability\n",
        "# # Create the parameter grid based on the results of random search \n",
        "# param_grid = {\n",
        "#     #'bootstrap': [True],\n",
        "#     #'max_depth': [80, 90, 100, 110],\n",
        "#     #'max_features': [2, 3],\n",
        "#     #'min_samples_leaf': [3, 4, 5],\n",
        "#     #'min_samples_split': [8, 10, 12],\n",
        "#     'n_estimators': [100, 200, 500]\n",
        "# }\n",
        "\n",
        "# # Instantiate the grid search model\n",
        "# grid_search = GridSearchCV(estimator = RandomForestClassifier(), param_grid = param_grid, \n",
        "#                           cv = 3, n_jobs = -1, verbose = 2)\n",
        "\n",
        "# # Fit the grid search to the data\n",
        "# grid_search.fit(X_train, y_train)\n",
        "# grid_search.best_params_"
      ]
    },
    {
      "cell_type": "markdown",
      "id": "c1f1e6de",
      "metadata": {
        "id": "c1f1e6de"
      },
      "source": [
        "## 4. Display and explain detail the classification report"
      ]
    },
    {
      "cell_type": "code",
      "execution_count": 39,
      "id": "73b39663",
      "metadata": {
        "colab": {
          "base_uri": "https://localhost:8080/"
        },
        "id": "73b39663",
        "outputId": "909ed094-67a6-4323-db89-82a75085735d"
      },
      "outputs": [
        {
          "output_type": "stream",
          "name": "stdout",
          "text": [
            "Classification Report : \n",
            "              precision    recall  f1-score   support\n",
            "\n",
            "           0       0.00      0.00      0.00         0\n",
            "           1       0.00      0.00      0.00         0\n",
            "           2       0.00      0.00      0.00         0\n",
            "           3       0.00      0.00      0.00         0\n",
            "           4       0.00      0.00      0.00         0\n",
            "           5       0.00      0.00      0.00         0\n",
            "           6       0.00      0.00      0.00         0\n",
            "           7       0.00      0.00      0.00         0\n",
            "           8       0.00      0.00      0.00         0\n",
            "           9       0.00      0.00      0.00         0\n",
            "          10       0.00      0.00      0.00         0\n",
            "          11       0.00      0.00      0.00         0\n",
            "          12       0.00      0.00      0.00         0\n",
            "          13       0.00      0.00      0.00         0\n",
            "          14       0.00      0.00      0.00         0\n",
            "          15       0.00      0.00      0.00         0\n",
            "          16       0.00      0.00      0.00         0\n",
            "          17       0.00      0.00      0.00         0\n",
            "          18       0.00      0.00      0.00         0\n",
            "          19       0.00      0.00      0.00         0\n",
            "          20       0.00      0.00      0.00         0\n",
            "          21       0.00      0.00      0.00         0\n",
            "          22       0.00      0.00      0.00         0\n",
            "          23       0.00      0.00      0.00         0\n",
            "          24       0.00      0.00      0.00         0\n",
            "          25       0.00      0.00      0.00         2\n",
            "          26       0.00      0.00      0.00         2\n",
            "          27       0.78      0.34      0.47       157\n",
            "          28       0.33      0.06      0.10        17\n",
            "          29       0.77      0.67      0.72      1031\n",
            "          30       0.93      0.30      0.45        47\n",
            "          31       0.00      0.00      0.00         3\n",
            "          32       0.00      0.00      0.00         5\n",
            "          33       0.62      0.23      0.33        22\n",
            "          34       0.67      0.29      0.41       214\n",
            "          35       0.83      0.26      0.40        96\n",
            "          36       0.00      0.00      0.00        25\n",
            "          37       0.00      0.00      0.00        10\n",
            "          38       0.56      0.06      0.11        81\n",
            "          39       0.80      0.11      0.20        36\n",
            "          40       0.89      0.57      0.69       394\n",
            "          41       0.67      0.10      0.17        40\n",
            "          42       1.00      0.08      0.14        13\n",
            "          43       0.00      0.00      0.00         0\n",
            "          44       0.67      0.06      0.11        35\n",
            "          45       1.00      0.43      0.60        21\n",
            "          46       0.00      0.00      0.00         2\n",
            "          47       0.00      0.00      0.00        11\n",
            "          48       0.75      0.04      0.08        74\n",
            "          49       0.74      0.17      0.28       132\n",
            "          50       1.00      0.59      0.74        39\n",
            "          51       0.00      0.00      0.00         3\n",
            "          52       0.00      0.00      0.00         2\n",
            "          53       0.00      0.00      0.00        17\n",
            "          54       0.75      0.21      0.33       127\n",
            "          55       0.00      0.00      0.00         1\n",
            "          56       0.00      0.00      0.00         1\n",
            "          57       0.76      0.34      0.47       311\n",
            "          58       0.75      0.15      0.25        20\n",
            "          59       0.71      0.23      0.35       273\n",
            "          60       1.00      0.17      0.29        18\n",
            "          61       0.64      0.35      0.45       322\n",
            "          62       0.64      0.27      0.38       220\n",
            "          63       0.69      0.45      0.54       693\n",
            "          64       0.00      0.00      0.00         0\n",
            "          65       0.00      0.00      0.00         8\n",
            "          66       0.74      0.19      0.31       103\n",
            "          67       0.79      0.60      0.68      1177\n",
            "          68       0.73      0.46      0.57       928\n",
            "          69       0.79      0.80      0.80      1601\n",
            "\n",
            "   micro avg       0.76      0.51      0.61      8334\n",
            "   macro avg       0.31      0.12      0.16      8334\n",
            "weighted avg       0.75      0.51      0.59      8334\n",
            " samples avg       0.70      0.51      0.57      8334\n",
            "\n"
          ]
        },
        {
          "output_type": "stream",
          "name": "stderr",
          "text": [
            "/usr/local/lib/python3.7/dist-packages/sklearn/metrics/_classification.py:1318: UndefinedMetricWarning: Precision and F-score are ill-defined and being set to 0.0 in labels with no predicted samples. Use `zero_division` parameter to control this behavior.\n",
            "  _warn_prf(average, modifier, msg_start, len(result))\n",
            "/usr/local/lib/python3.7/dist-packages/sklearn/metrics/_classification.py:1318: UndefinedMetricWarning: Recall and F-score are ill-defined and being set to 0.0 in labels with no true samples. Use `zero_division` parameter to control this behavior.\n",
            "  _warn_prf(average, modifier, msg_start, len(result))\n",
            "/usr/local/lib/python3.7/dist-packages/sklearn/metrics/_classification.py:1318: UndefinedMetricWarning: Precision and F-score are ill-defined and being set to 0.0 in samples with no predicted labels. Use `zero_division` parameter to control this behavior.\n",
            "  _warn_prf(average, modifier, msg_start, len(result))\n"
          ]
        }
      ],
      "source": [
        "# Classification Report\n",
        "\n",
        "print(\"Classification Report : \")\n",
        "print(classification_report(y_test, y_pred))"
      ]
    },
    {
      "cell_type": "markdown",
      "id": "8a144113",
      "metadata": {
        "id": "8a144113"
      },
      "source": [
        "### Explanation of classification report :\n",
        "\n",
        "- We can see that the class level accuracies are too low.\n",
        "- The low values can be owing to imbalance in our data.\n",
        "- Gap can be seen in the values of precision and recall and is totally dependent on business requirements and hence currently nothing can be commented on the same.\n",
        "- So, in the current scenario, micro - average score will be appropriate as it takes into account each instances equally rather than its counter part macro - avgerage score which considers all classes equally.\n",
        "- As we have used data partially owing to faster execution and to keep computations simpler we see missing values in the report as well.\n",
        "- We can see that Logistic Regression with OneVsRestClassifier performs better than Random Forest with OneVsRestClassifier in terms of overall and class level accuracy.\n"
      ]
    },
    {
      "cell_type": "markdown",
      "id": "de9780cc",
      "metadata": {
        "id": "de9780cc"
      },
      "source": [
        "## 5.Print the true vs predicted labels for any 5 entries from the dataset"
      ]
    },
    {
      "cell_type": "code",
      "execution_count": 40,
      "id": "ac222874",
      "metadata": {
        "colab": {
          "base_uri": "https://localhost:8080/"
        },
        "id": "ac222874",
        "outputId": "ed109c0c-1092-4faa-cc5d-0d5433074c76"
      },
      "outputs": [
        {
          "output_type": "stream",
          "name": "stdout",
          "text": [
            "Entry No : 1\n",
            "True Labels :  ('Aquarius', 'Education', 'female')\n",
            "Predicted Labels :  ('male',)\n",
            "\n",
            "\n",
            "Entry No : 2\n",
            "True Labels :  ('Sagittarius', 'Technology', 'female')\n",
            "Predicted Labels :  ()\n",
            "\n",
            "\n",
            "Entry No : 3\n",
            "True Labels :  ('Capricorn', 'Technology', 'male')\n",
            "Predicted Labels :  ('Aries', 'Technology', 'male')\n",
            "\n",
            "\n",
            "Entry No : 4\n",
            "True Labels :  ('Pisces', 'female', 'indUnk')\n",
            "Predicted Labels :  ('Aries', 'male')\n",
            "\n",
            "\n",
            "Entry No : 5\n",
            "True Labels :  ('Aries', 'Technology', 'male')\n",
            "Predicted Labels :  ('indUnk',)\n",
            "\n",
            "\n"
          ]
        }
      ],
      "source": [
        "# Pulling out 5 entries\n",
        "rec_no = []\n",
        "for i in range(5):\n",
        "  rec_no.append(random.randint(10, len(y_pred)))\n",
        "\n",
        "# Counter for 5 entries  \n",
        "count = 0\n",
        "\n",
        "for j in rec_no:\n",
        "  print('Entry No :',count+1)\n",
        "  print('True Labels : ', ml_binarizer.inverse_transform(y_test)[j])\n",
        "  print('Predicted Labels : ', ml_binarizer.inverse_transform(y_pred)[j])\n",
        "  print('\\n')\n",
        "  count+=1"
      ]
    },
    {
      "cell_type": "markdown",
      "id": "b0cee857",
      "metadata": {
        "id": "b0cee857"
      },
      "source": [
        "As can be seen here as well that predictions are not perfect and there are missing values owing to the reason as stated before that only a part of the data has been utilised and to the fact that data is imbalanced."
      ]
    },
    {
      "cell_type": "markdown",
      "id": "d02cca8a",
      "metadata": {
        "id": "d02cca8a"
      },
      "source": [
        "# <center><b>NLP_Project_1_Part_2</b></center>"
      ]
    },
    {
      "cell_type": "code",
      "execution_count": 41,
      "id": "c338bd9a",
      "metadata": {
        "colab": {
          "base_uri": "https://localhost:8080/"
        },
        "id": "c338bd9a",
        "outputId": "6ec32d7a-756d-43b5-d34f-0885855756b0"
      },
      "outputs": [
        {
          "output_type": "stream",
          "name": "stdout",
          "text": [
            "Drive already mounted at /content/drive/; to attempt to forcibly remount, call drive.mount(\"/content/drive/\", force_remount=True).\n"
          ]
        }
      ],
      "source": [
        "# Mounting the personal drive to import the data for the project\n",
        "\n",
        "from google.colab import drive\n",
        "drive.mount('/content/drive/')"
      ]
    },
    {
      "cell_type": "code",
      "execution_count": 42,
      "id": "f15ec0e0",
      "metadata": {
        "colab": {
          "base_uri": "https://localhost:8080/"
        },
        "id": "f15ec0e0",
        "outputId": "dfe42673-6780-4c61-e99c-e884fb915381"
      },
      "outputs": [
        {
          "output_type": "stream",
          "name": "stdout",
          "text": [
            "[nltk_data] Downloading package punkt to /root/nltk_data...\n",
            "[nltk_data]   Unzipping tokenizers/punkt.zip.\n",
            "[nltk_data] Downloading package wordnet to /root/nltk_data...\n",
            "[nltk_data]   Unzipping corpora/wordnet.zip.\n",
            "TensorFlow 1.x selected.\n"
          ]
        }
      ],
      "source": [
        "# Importing the libraries\n",
        "\n",
        "# For removal of the warnings\n",
        "import warnings\n",
        "warnings.filterwarnings(\"ignore\")\n",
        "\n",
        "# Basic\n",
        "import os\n",
        "import json\n",
        "import string\n",
        "import random\n",
        "import numpy as np\n",
        "\n",
        "# NLP related\n",
        "import nltk\n",
        "from nltk.stem import WordNetLemmatizer\n",
        "nltk.download('punkt')\n",
        "nltk.download(\"wordnet\")\n",
        "%tensorflow_version 1.x\n",
        "import tensorflow as tf\n",
        "\n",
        "# DL related\n",
        "from tensorflow.python.keras import Sequential\n",
        "from tensorflow.python.keras.layers import Dense, Dropout\n",
        "from tensorflow.python.keras.optimizers import Adam"
      ]
    },
    {
      "cell_type": "code",
      "execution_count": 43,
      "id": "f777bd4d",
      "metadata": {
        "colab": {
          "base_uri": "https://localhost:8080/",
          "height": 36
        },
        "id": "f777bd4d",
        "outputId": "0d198015-3dc0-4c94-8c7d-69c2b2eebf2f"
      },
      "outputs": [
        {
          "output_type": "execute_result",
          "data": {
            "application/vnd.google.colaboratory.intrinsic+json": {
              "type": "string"
            },
            "text/plain": [
              "'/content/drive/MyDrive/Colab Data/NLP_Project/Part_2'"
            ]
          },
          "metadata": {},
          "execution_count": 43
        }
      ],
      "source": [
        "# Importing the corpus\n",
        "# Please note that the corpus has been modified as per the requirements mentioned in the project\n",
        "\n",
        "file_path = r'/content/drive/MyDrive/Colab Data/NLP_Project/Part_2'\n",
        "os.chdir(file_path)\n",
        "os.getcwd()"
      ]
    },
    {
      "cell_type": "code",
      "execution_count": 44,
      "id": "fd35e612",
      "metadata": {
        "id": "fd35e612"
      },
      "outputs": [],
      "source": [
        "# Accessing the modified corpus\n",
        "\n",
        "with open('GL_Bot_Corpus_Enhanced.json') as bot_corpus:\n",
        "    corpus_data = json.load(bot_corpus)"
      ]
    },
    {
      "cell_type": "code",
      "execution_count": 45,
      "id": "631bf3fb",
      "metadata": {
        "colab": {
          "base_uri": "https://localhost:8080/"
        },
        "id": "631bf3fb",
        "outputId": "93ce4278-8fbc-4b7a-c4af-ea91afc888ba"
      },
      "outputs": [
        {
          "output_type": "stream",
          "name": "stdout",
          "text": [
            "{'intents': [{'tag': 'Intro', 'patterns': ['hi', 'how are you', 'is anyone there', 'hello', 'whats up', 'hey', 'yo', 'listen', 'please help me', 'i am learner from', 'i belong to', 'aiml batch', 'aifl batch', 'i am from', 'my pm is', 'blended', 'online', 'i am from', 'hey ya', 'talking to you for first time', \"hey what's up\", 'how are you doing', 'can you help me', 'hey ya', 'hola'], 'responses': ['Hello! how can i help you ?'], 'context_set': ''}, {'tag': 'Exit', 'patterns': ['thank you', 'thanks', 'cya', 'see you', 'later', 'see you later', 'goodbye', 'i am leaving', 'have a Good day', 'you helped me', 'thanks a lot', 'thanks a ton', 'you are the best', 'great help', 'too good', 'you are a good learning buddy', 'ciao', 'adios', 'thanks a lot buddy', 'helped a lot', 'thanks for assistance', 'great aid', 'thanks for aid'], 'responses': ['I hope I was able to assist you, Good Bye'], 'context_set': ''}, {'tag': 'Olympus', 'patterns': ['olympus', 'explain me how olympus works', 'I am not able to understand olympus', 'olympus window not working', 'no access to olympus', 'unable to see link in olympus', 'no link visible on olympus', 'whom to contact for olympus', 'lot of problem with olympus', 'olypus is not a good tool', 'lot of problems with olympus', 'how to use olympus', 'teach me olympus', 'olympus info', 'olympus link not available', 'olympus seems complicated to use', 'olympus support not satisfactory'], 'responses': ['Link: Olympus wiki'], 'context_set': ''}, {'tag': 'SL', 'patterns': ['i am not able to understand svm', 'explain me how machine learning works', 'i am not able to understand naive bayes', 'i am not able to understand logistic regression', 'i am not able to understand ensemble techb=niques', 'i am not able to understand knn', 'i am not able to understand knn imputer', 'i am not able to understand cross validation', 'i am not able to understand boosting', 'i am not able to understand random forest', 'i am not able to understand ada boosting', 'i am not able to understand gradient boosting', 'machine learning', 'ML', 'SL', 'supervised learning', 'knn', 'logistic regression', 'regression', 'classification', 'naive bayes', 'nb', 'ensemble techniques', 'bagging', 'boosting', 'ada boosting', 'ada', 'gradient boosting', 'hyper parameters', 'machine learning tutorials', 'machine learning course'], 'responses': ['Link: Machine Learning wiki '], 'context_set': ''}, {'tag': 'NN', 'patterns': ['what is deep learning', 'unable to understand deep learning', 'explain me how deep learning works', 'i am not able to understand deep learning', 'not able to understand neural nets', 'very diffult to understand neural nets', 'unable to understand neural nets', 'ann', 'artificial intelligence', 'artificial neural networks', 'weights', 'activation function', 'hidden layers', 'softmax', 'sigmoid', 'relu', 'otimizer', 'forward propagation', 'backward propagation', 'epochs', 'epoch', 'what is an epoch', 'adam', 'sgd', 'deep learning course', 'deep learning tutorials'], 'responses': ['Link: Neural Nets wiki'], 'context_set': ''}, {'tag': 'Bot', 'patterns': ['what is your name', 'who are you', 'name please', 'when are your hours of opertions', 'what are your working hours', 'hours of operation', 'working hours', 'hours'], 'responses': ['I am your virtual learning assistant'], 'context_set': ''}, {'tag': 'Profane', 'patterns': ['what the hell', 'bloody stupid bot', 'do you think you are very smart', 'screw you', 'i hate you', 'you are stupid', 'jerk', 'you are a joke', 'useless piece of shit'], 'responses': ['Please use respectful words'], 'context_set': ''}, {'tag': 'Ticket', 'patterns': ['my problem is not solved', 'you did not help me', 'not a good solution', 'bad solution', 'not good solution', 'no help', 'wasted my time', 'useless bot', 'create a ticket'], 'responses': ['Transferring the request to your PM'], 'context_set': ''}, {'tag': 'Office', 'patterns': ['right now at office', 'working at bangalore centre ', 'i sit at bangalore office', 'wokplace is at bangalore', 'bengaluru', 'bangalore headquarters', 'work location', 'currently present at'], 'responses': ['I understand you are at Bangalore office,India'], 'context_set': ''}, {'tag': 'Email', 'patterns': [\"can't access email id\", 'email id', 'email help', 'email id not working', 'need help with email', 'email support', 'support link for email', 'login unsuccessful', 'error login', 'wrong login cred', 'email', 'unable to login'], 'responses': ['Please use this link [emailhelp.com] to get step by step solution'], 'context_set': ''}]}\n"
          ]
        }
      ],
      "source": [
        "# Displaying the data in the corpus\n",
        "\n",
        "print(corpus_data)"
      ]
    },
    {
      "cell_type": "code",
      "execution_count": 46,
      "id": "1442e8ee",
      "metadata": {
        "colab": {
          "base_uri": "https://localhost:8080/"
        },
        "id": "1442e8ee",
        "outputId": "17322785-e66b-4e63-f158-5cdc0338a00b"
      },
      "outputs": [
        {
          "output_type": "stream",
          "name": "stdout",
          "text": [
            "{\n",
            "   \"intents\": [\n",
            "      {\n",
            "         \"tag\": \"Intro\",\n",
            "         \"patterns\": [\n",
            "            \"hi\",\n",
            "            \"how are you\",\n",
            "            \"is anyone there\",\n",
            "            \"hello\",\n",
            "            \"whats up\",\n",
            "            \"hey\",\n",
            "            \"yo\",\n",
            "            \"listen\",\n",
            "            \"please help me\",\n",
            "            \"i am learner from\",\n",
            "            \"i belong to\",\n",
            "            \"aiml batch\",\n",
            "            \"aifl batch\",\n",
            "            \"i am from\",\n",
            "            \"my pm is\",\n",
            "            \"blended\",\n",
            "            \"online\",\n",
            "            \"i am from\",\n",
            "            \"hey ya\",\n",
            "            \"talking to you for first time\",\n",
            "            \"hey what's up\",\n",
            "            \"how are you doing\",\n",
            "            \"can you help me\",\n",
            "            \"hey ya\",\n",
            "            \"hola\"\n",
            "         ],\n",
            "         \"responses\": [\n",
            "            \"Hello! how can i help you ?\"\n",
            "         ],\n",
            "         \"context_set\": \"\"\n",
            "      },\n",
            "      {\n",
            "         \"tag\": \"Exit\",\n",
            "         \"patterns\": [\n",
            "            \"thank you\",\n",
            "            \"thanks\",\n",
            "            \"cya\",\n",
            "            \"see you\",\n",
            "            \"later\",\n",
            "            \"see you later\",\n",
            "            \"goodbye\",\n",
            "            \"i am leaving\",\n",
            "            \"have a Good day\",\n",
            "            \"you helped me\",\n",
            "            \"thanks a lot\",\n",
            "            \"thanks a ton\",\n",
            "            \"you are the best\",\n",
            "            \"great help\",\n",
            "            \"too good\",\n",
            "            \"you are a good learning buddy\",\n",
            "            \"ciao\",\n",
            "            \"adios\",\n",
            "            \"thanks a lot buddy\",\n",
            "            \"helped a lot\",\n",
            "            \"thanks for assistance\",\n",
            "            \"great aid\",\n",
            "            \"thanks for aid\"\n",
            "         ],\n",
            "         \"responses\": [\n",
            "            \"I hope I was able to assist you, Good Bye\"\n",
            "         ],\n",
            "         \"context_set\": \"\"\n",
            "      },\n",
            "      {\n",
            "         \"tag\": \"Olympus\",\n",
            "         \"patterns\": [\n",
            "            \"olympus\",\n",
            "            \"explain me how olympus works\",\n",
            "            \"I am not able to understand olympus\",\n",
            "            \"olympus window not working\",\n",
            "            \"no access to olympus\",\n",
            "            \"unable to see link in olympus\",\n",
            "            \"no link visible on olympus\",\n",
            "            \"whom to contact for olympus\",\n",
            "            \"lot of problem with olympus\",\n",
            "            \"olypus is not a good tool\",\n",
            "            \"lot of problems with olympus\",\n",
            "            \"how to use olympus\",\n",
            "            \"teach me olympus\",\n",
            "            \"olympus info\",\n",
            "            \"olympus link not available\",\n",
            "            \"olympus seems complicated to use\",\n",
            "            \"olympus support not satisfactory\"\n",
            "         ],\n",
            "         \"responses\": [\n",
            "            \"Link: Olympus wiki\"\n",
            "         ],\n",
            "         \"context_set\": \"\"\n",
            "      },\n",
            "      {\n",
            "         \"tag\": \"SL\",\n",
            "         \"patterns\": [\n",
            "            \"i am not able to understand svm\",\n",
            "            \"explain me how machine learning works\",\n",
            "            \"i am not able to understand naive bayes\",\n",
            "            \"i am not able to understand logistic regression\",\n",
            "            \"i am not able to understand ensemble techb=niques\",\n",
            "            \"i am not able to understand knn\",\n",
            "            \"i am not able to understand knn imputer\",\n",
            "            \"i am not able to understand cross validation\",\n",
            "            \"i am not able to understand boosting\",\n",
            "            \"i am not able to understand random forest\",\n",
            "            \"i am not able to understand ada boosting\",\n",
            "            \"i am not able to understand gradient boosting\",\n",
            "            \"machine learning\",\n",
            "            \"ML\",\n",
            "            \"SL\",\n",
            "            \"supervised learning\",\n",
            "            \"knn\",\n",
            "            \"logistic regression\",\n",
            "            \"regression\",\n",
            "            \"classification\",\n",
            "            \"naive bayes\",\n",
            "            \"nb\",\n",
            "            \"ensemble techniques\",\n",
            "            \"bagging\",\n",
            "            \"boosting\",\n",
            "            \"ada boosting\",\n",
            "            \"ada\",\n",
            "            \"gradient boosting\",\n",
            "            \"hyper parameters\",\n",
            "            \"machine learning tutorials\",\n",
            "            \"machine learning course\"\n",
            "         ],\n",
            "         \"responses\": [\n",
            "            \"Link: Machine Learning wiki \"\n",
            "         ],\n",
            "         \"context_set\": \"\"\n",
            "      },\n",
            "      {\n",
            "         \"tag\": \"NN\",\n",
            "         \"patterns\": [\n",
            "            \"what is deep learning\",\n",
            "            \"unable to understand deep learning\",\n",
            "            \"explain me how deep learning works\",\n",
            "            \"i am not able to understand deep learning\",\n",
            "            \"not able to understand neural nets\",\n",
            "            \"very diffult to understand neural nets\",\n",
            "            \"unable to understand neural nets\",\n",
            "            \"ann\",\n",
            "            \"artificial intelligence\",\n",
            "            \"artificial neural networks\",\n",
            "            \"weights\",\n",
            "            \"activation function\",\n",
            "            \"hidden layers\",\n",
            "            \"softmax\",\n",
            "            \"sigmoid\",\n",
            "            \"relu\",\n",
            "            \"otimizer\",\n",
            "            \"forward propagation\",\n",
            "            \"backward propagation\",\n",
            "            \"epochs\",\n",
            "            \"epoch\",\n",
            "            \"what is an epoch\",\n",
            "            \"adam\",\n",
            "            \"sgd\",\n",
            "            \"deep learning course\",\n",
            "            \"deep learning tutorials\"\n",
            "         ],\n",
            "         \"responses\": [\n",
            "            \"Link: Neural Nets wiki\"\n",
            "         ],\n",
            "         \"context_set\": \"\"\n",
            "      },\n",
            "      {\n",
            "         \"tag\": \"Bot\",\n",
            "         \"patterns\": [\n",
            "            \"what is your name\",\n",
            "            \"who are you\",\n",
            "            \"name please\",\n",
            "            \"when are your hours of opertions\",\n",
            "            \"what are your working hours\",\n",
            "            \"hours of operation\",\n",
            "            \"working hours\",\n",
            "            \"hours\"\n",
            "         ],\n",
            "         \"responses\": [\n",
            "            \"I am your virtual learning assistant\"\n",
            "         ],\n",
            "         \"context_set\": \"\"\n",
            "      },\n",
            "      {\n",
            "         \"tag\": \"Profane\",\n",
            "         \"patterns\": [\n",
            "            \"what the hell\",\n",
            "            \"bloody stupid bot\",\n",
            "            \"do you think you are very smart\",\n",
            "            \"screw you\",\n",
            "            \"i hate you\",\n",
            "            \"you are stupid\",\n",
            "            \"jerk\",\n",
            "            \"you are a joke\",\n",
            "            \"useless piece of shit\"\n",
            "         ],\n",
            "         \"responses\": [\n",
            "            \"Please use respectful words\"\n",
            "         ],\n",
            "         \"context_set\": \"\"\n",
            "      },\n",
            "      {\n",
            "         \"tag\": \"Ticket\",\n",
            "         \"patterns\": [\n",
            "            \"my problem is not solved\",\n",
            "            \"you did not help me\",\n",
            "            \"not a good solution\",\n",
            "            \"bad solution\",\n",
            "            \"not good solution\",\n",
            "            \"no help\",\n",
            "            \"wasted my time\",\n",
            "            \"useless bot\",\n",
            "            \"create a ticket\"\n",
            "         ],\n",
            "         \"responses\": [\n",
            "            \"Transferring the request to your PM\"\n",
            "         ],\n",
            "         \"context_set\": \"\"\n",
            "      },\n",
            "      {\n",
            "         \"tag\": \"Office\",\n",
            "         \"patterns\": [\n",
            "            \"right now at office\",\n",
            "            \"working at bangalore centre \",\n",
            "            \"i sit at bangalore office\",\n",
            "            \"wokplace is at bangalore\",\n",
            "            \"bengaluru\",\n",
            "            \"bangalore headquarters\",\n",
            "            \"work location\",\n",
            "            \"currently present at\"\n",
            "         ],\n",
            "         \"responses\": [\n",
            "            \"I understand you are at Bangalore office,India\"\n",
            "         ],\n",
            "         \"context_set\": \"\"\n",
            "      },\n",
            "      {\n",
            "         \"tag\": \"Email\",\n",
            "         \"patterns\": [\n",
            "            \"can't access email id\",\n",
            "            \"email id\",\n",
            "            \"email help\",\n",
            "            \"email id not working\",\n",
            "            \"need help with email\",\n",
            "            \"email support\",\n",
            "            \"support link for email\",\n",
            "            \"login unsuccessful\",\n",
            "            \"error login\",\n",
            "            \"wrong login cred\",\n",
            "            \"email\",\n",
            "            \"unable to login\"\n",
            "         ],\n",
            "         \"responses\": [\n",
            "            \"Please use this link [emailhelp.com] to get step by step solution\"\n",
            "         ],\n",
            "         \"context_set\": \"\"\n",
            "      }\n",
            "   ]\n",
            "}\n"
          ]
        }
      ],
      "source": [
        "# Displaying in the original format for clarity\n",
        "\n",
        "print(json.dumps(corpus_data, indent = 3))"
      ]
    },
    {
      "cell_type": "code",
      "execution_count": 47,
      "id": "160046aa",
      "metadata": {
        "id": "160046aa"
      },
      "outputs": [],
      "source": [
        "# Using lemmatizer to get the base of words\n",
        " \n",
        "lemmatizer = WordNetLemmatizer()"
      ]
    },
    {
      "cell_type": "code",
      "execution_count": 48,
      "id": "5621daaa",
      "metadata": {
        "id": "5621daaa"
      },
      "outputs": [],
      "source": [
        "# Placeholders for data extraction\n",
        "\n",
        "words = []\n",
        "classes = []\n",
        "doc_X = []\n",
        "doc_y = []\n",
        "\n",
        "# Performing the tokenisation\n",
        "\n",
        "for intent in corpus_data[\"intents\"]:\n",
        "    for pattern in intent[\"patterns\"]:\n",
        "        tokens = nltk.word_tokenize(pattern)\n",
        "        words.extend(tokens)\n",
        "        doc_X.append(pattern)\n",
        "        doc_y.append(intent[\"tag\"])\n",
        "    \n",
        "    # Adding the missing tag in any \n",
        "    if intent[\"tag\"] not in classes:\n",
        "        classes.append(intent[\"tag\"])"
      ]
    },
    {
      "cell_type": "code",
      "execution_count": 49,
      "id": "023187bd",
      "metadata": {
        "id": "023187bd"
      },
      "outputs": [],
      "source": [
        "# Lemmatizing all the words in the vocablury\n",
        "# Converting to lowercase\n",
        "# For words not appearing in punctuation\n",
        "\n",
        "\n",
        "words = [lemmatizer.lemmatize(word.lower()) for word in words if word not in string.punctuation]"
      ]
    },
    {
      "cell_type": "code",
      "execution_count": 50,
      "id": "e2e3ae38",
      "metadata": {
        "id": "e2e3ae38"
      },
      "outputs": [],
      "source": [
        "# Sorting the words and classes and removing any scope for duplication\n",
        "\n",
        "words = sorted(set(words))\n",
        "classes = sorted(set(classes))"
      ]
    },
    {
      "cell_type": "code",
      "execution_count": 51,
      "id": "0acb57c7",
      "metadata": {
        "colab": {
          "base_uri": "https://localhost:8080/"
        },
        "id": "0acb57c7",
        "outputId": "93b80403-a6f8-4bde-faab-ab7a59cc2a0f"
      },
      "outputs": [
        {
          "output_type": "stream",
          "name": "stdout",
          "text": [
            "The tokens are:\n",
            " 0              's\n",
            "1               a\n",
            "2            able\n",
            "3          access\n",
            "4      activation\n",
            "          ...    \n",
            "192         wrong\n",
            "193            ya\n",
            "194            yo\n",
            "195           you\n",
            "196          your\n",
            "Length: 197, dtype: object \n",
            "\n",
            "The identified tags are:\n",
            " 0        Bot\n",
            "1      Email\n",
            "2       Exit\n",
            "3      Intro\n",
            "4         NN\n",
            "5     Office\n",
            "6    Olympus\n",
            "7    Profane\n",
            "8         SL\n",
            "9     Ticket\n",
            "dtype: object \n",
            "\n",
            "The tokenised words are:\n",
            " 0                      hi\n",
            "1             how are you\n",
            "2         is anyone there\n",
            "3                   hello\n",
            "4                whats up\n",
            "              ...        \n",
            "163    login unsuccessful\n",
            "164           error login\n",
            "165      wrong login cred\n",
            "166                 email\n",
            "167       unable to login\n",
            "Length: 168, dtype: object \n",
            "\n",
            "The labels are:\n",
            " 0      Intro\n",
            "1      Intro\n",
            "2      Intro\n",
            "3      Intro\n",
            "4      Intro\n",
            "       ...  \n",
            "163    Email\n",
            "164    Email\n",
            "165    Email\n",
            "166    Email\n",
            "167    Email\n",
            "Length: 168, dtype: object \n",
            "\n"
          ]
        }
      ],
      "source": [
        "import pandas as pd\n",
        "\n",
        "print('The tokens are:\\n', pd.Series(words), '\\n') \n",
        "print('The identified tags are:\\n', pd.Series(classes), '\\n')\n",
        "print('The tokenised words are:\\n', pd.Series(doc_X), '\\n')\n",
        "print('The labels are:\\n', pd.Series(doc_y), '\\n')"
      ]
    },
    {
      "cell_type": "code",
      "execution_count": 52,
      "id": "06e1b290",
      "metadata": {
        "id": "06e1b290"
      },
      "outputs": [],
      "source": [
        "# Placeholder for training data \n",
        "\n",
        "training = []\n",
        "\n",
        "out_empty = [0 for i in range(len(classes))]\n",
        "\n",
        "# Creating the bag of words and adding the frequency\n",
        "\n",
        "for idx, doc in enumerate(doc_X):\n",
        "    \n",
        "    bow = []\n",
        "    text = lemmatizer.lemmatize(doc.lower())\n",
        "    \n",
        "    for word in words:\n",
        "        bow.append(1) if word in text else bow.append(0)\n",
        "    \n",
        "    output_row = list(out_empty)\n",
        "    output_row[classes.index(doc_y[idx])] = 1\n",
        "    \n",
        "    # For training adding the OHE BOW and relative classes  \n",
        "    training.append([bow, output_row])\n",
        "\n",
        "training = np.array(training, dtype=object)"
      ]
    },
    {
      "cell_type": "code",
      "execution_count": 53,
      "id": "8e7f0f54",
      "metadata": {
        "id": "8e7f0f54"
      },
      "outputs": [],
      "source": [
        "# Splitting the features and target\n",
        "\n",
        "train_X = np.array(list(training[:, 0]))\n",
        "train_y = np.array(list(training[:, 1]))"
      ]
    },
    {
      "cell_type": "code",
      "execution_count": 54,
      "id": "86670fa5",
      "metadata": {
        "id": "86670fa5"
      },
      "outputs": [],
      "source": [
        "# Required data and params for modelling the classifier\n",
        "\n",
        "input_shape = (len(train_X[0]),)\n",
        "output_shape = len(train_y[0])\n",
        "epochs = 300"
      ]
    },
    {
      "cell_type": "code",
      "execution_count": 55,
      "id": "bc34d9d4",
      "metadata": {
        "colab": {
          "base_uri": "https://localhost:8080/"
        },
        "id": "bc34d9d4",
        "outputId": "9fe09777-3578-49fa-a333-7bc5b41811c5"
      },
      "outputs": [
        {
          "output_type": "stream",
          "name": "stdout",
          "text": [
            "WARNING:tensorflow:From /tensorflow-1.15.2/python3.7/tensorflow_core/python/ops/resource_variable_ops.py:1630: calling BaseResourceVariable.__init__ (from tensorflow.python.ops.resource_variable_ops) with constraint is deprecated and will be removed in a future version.\n",
            "Instructions for updating:\n",
            "If using Keras pass *_constraint arguments to layers.\n",
            "Model: \"sequential\"\n",
            "_________________________________________________________________\n",
            "Layer (type)                 Output Shape              Param #   \n",
            "=================================================================\n",
            "dense (Dense)                (None, 128)               25344     \n",
            "_________________________________________________________________\n",
            "dropout (Dropout)            (None, 128)               0         \n",
            "_________________________________________________________________\n",
            "dense_1 (Dense)              (None, 64)                8256      \n",
            "_________________________________________________________________\n",
            "dropout_1 (Dropout)          (None, 64)                0         \n",
            "_________________________________________________________________\n",
            "dense_2 (Dense)              (None, 10)                650       \n",
            "=================================================================\n",
            "Total params: 34,250\n",
            "Trainable params: 34,250\n",
            "Non-trainable params: 0\n",
            "_________________________________________________________________\n",
            "None\n",
            "Train on 168 samples\n",
            "Epoch 1/300\n",
            "168/168 [==============================] - 1s 4ms/sample - loss: 2.3386 - acc: 0.1131\n",
            "Epoch 2/300\n",
            "168/168 [==============================] - 0s 93us/sample - loss: 2.3094 - acc: 0.1131\n",
            "Epoch 3/300\n",
            "168/168 [==============================] - 0s 88us/sample - loss: 2.2520 - acc: 0.1726\n",
            "Epoch 4/300\n",
            "168/168 [==============================] - 0s 95us/sample - loss: 2.1864 - acc: 0.2440\n",
            "Epoch 5/300\n",
            "168/168 [==============================] - 0s 100us/sample - loss: 2.1600 - acc: 0.1845\n",
            "Epoch 6/300\n",
            "168/168 [==============================] - 0s 92us/sample - loss: 2.1032 - acc: 0.3214\n",
            "Epoch 7/300\n",
            "168/168 [==============================] - 0s 93us/sample - loss: 2.0861 - acc: 0.3274\n",
            "Epoch 8/300\n",
            "168/168 [==============================] - 0s 90us/sample - loss: 2.0246 - acc: 0.3810\n",
            "Epoch 9/300\n",
            "168/168 [==============================] - 0s 88us/sample - loss: 1.9900 - acc: 0.3631\n",
            "Epoch 10/300\n",
            "168/168 [==============================] - 0s 85us/sample - loss: 1.9435 - acc: 0.3750\n",
            "Epoch 11/300\n",
            "168/168 [==============================] - 0s 91us/sample - loss: 1.8952 - acc: 0.3869\n",
            "Epoch 12/300\n",
            "168/168 [==============================] - 0s 88us/sample - loss: 1.8115 - acc: 0.4345\n",
            "Epoch 13/300\n",
            "168/168 [==============================] - 0s 94us/sample - loss: 1.7882 - acc: 0.4405\n",
            "Epoch 14/300\n",
            "168/168 [==============================] - 0s 90us/sample - loss: 1.6825 - acc: 0.4881\n",
            "Epoch 15/300\n",
            "168/168 [==============================] - 0s 87us/sample - loss: 1.6765 - acc: 0.5417\n",
            "Epoch 16/300\n",
            "168/168 [==============================] - 0s 90us/sample - loss: 1.5705 - acc: 0.5238\n",
            "Epoch 17/300\n",
            "168/168 [==============================] - 0s 89us/sample - loss: 1.5231 - acc: 0.5298\n",
            "Epoch 18/300\n",
            "168/168 [==============================] - 0s 89us/sample - loss: 1.4889 - acc: 0.5833\n",
            "Epoch 19/300\n",
            "168/168 [==============================] - 0s 89us/sample - loss: 1.4058 - acc: 0.6310\n",
            "Epoch 20/300\n",
            "168/168 [==============================] - 0s 102us/sample - loss: 1.3420 - acc: 0.6488\n",
            "Epoch 21/300\n",
            "168/168 [==============================] - 0s 91us/sample - loss: 1.2678 - acc: 0.6726\n",
            "Epoch 22/300\n",
            "168/168 [==============================] - 0s 93us/sample - loss: 1.2151 - acc: 0.6488\n",
            "Epoch 23/300\n",
            "168/168 [==============================] - 0s 90us/sample - loss: 1.0982 - acc: 0.7560\n",
            "Epoch 24/300\n",
            "168/168 [==============================] - 0s 92us/sample - loss: 1.0557 - acc: 0.7679\n",
            "Epoch 25/300\n",
            "168/168 [==============================] - 0s 91us/sample - loss: 0.9914 - acc: 0.7857\n",
            "Epoch 26/300\n",
            "168/168 [==============================] - 0s 90us/sample - loss: 0.9944 - acc: 0.7381\n",
            "Epoch 27/300\n",
            "168/168 [==============================] - 0s 91us/sample - loss: 0.8737 - acc: 0.7976\n",
            "Epoch 28/300\n",
            "168/168 [==============================] - 0s 95us/sample - loss: 0.8467 - acc: 0.8274\n",
            "Epoch 29/300\n",
            "168/168 [==============================] - 0s 95us/sample - loss: 0.7958 - acc: 0.8690\n",
            "Epoch 30/300\n",
            "168/168 [==============================] - 0s 99us/sample - loss: 0.7204 - acc: 0.8333\n",
            "Epoch 31/300\n",
            "168/168 [==============================] - 0s 106us/sample - loss: 0.6689 - acc: 0.8929\n",
            "Epoch 32/300\n",
            "168/168 [==============================] - 0s 104us/sample - loss: 0.6553 - acc: 0.8929\n",
            "Epoch 33/300\n",
            "168/168 [==============================] - 0s 104us/sample - loss: 0.6258 - acc: 0.8750\n",
            "Epoch 34/300\n",
            "168/168 [==============================] - 0s 103us/sample - loss: 0.5429 - acc: 0.8869\n",
            "Epoch 35/300\n",
            "168/168 [==============================] - 0s 114us/sample - loss: 0.5196 - acc: 0.9048\n",
            "Epoch 36/300\n",
            "168/168 [==============================] - 0s 98us/sample - loss: 0.5541 - acc: 0.8988\n",
            "Epoch 37/300\n",
            "168/168 [==============================] - 0s 95us/sample - loss: 0.4676 - acc: 0.9286\n",
            "Epoch 38/300\n",
            "168/168 [==============================] - 0s 96us/sample - loss: 0.4726 - acc: 0.8869\n",
            "Epoch 39/300\n",
            "168/168 [==============================] - 0s 102us/sample - loss: 0.4552 - acc: 0.9167\n",
            "Epoch 40/300\n",
            "168/168 [==============================] - 0s 99us/sample - loss: 0.4027 - acc: 0.9107\n",
            "Epoch 41/300\n",
            "168/168 [==============================] - 0s 106us/sample - loss: 0.3298 - acc: 0.9583\n",
            "Epoch 42/300\n",
            "168/168 [==============================] - 0s 105us/sample - loss: 0.3807 - acc: 0.9405\n",
            "Epoch 43/300\n",
            "168/168 [==============================] - 0s 95us/sample - loss: 0.3900 - acc: 0.9405\n",
            "Epoch 44/300\n",
            "168/168 [==============================] - 0s 112us/sample - loss: 0.3246 - acc: 0.9464\n",
            "Epoch 45/300\n",
            "168/168 [==============================] - 0s 110us/sample - loss: 0.2774 - acc: 0.9762\n",
            "Epoch 46/300\n",
            "168/168 [==============================] - 0s 103us/sample - loss: 0.3204 - acc: 0.9345\n",
            "Epoch 47/300\n",
            "168/168 [==============================] - 0s 92us/sample - loss: 0.2489 - acc: 0.9762\n",
            "Epoch 48/300\n",
            "168/168 [==============================] - 0s 94us/sample - loss: 0.2362 - acc: 0.9643\n",
            "Epoch 49/300\n",
            "168/168 [==============================] - 0s 96us/sample - loss: 0.2461 - acc: 0.9702\n",
            "Epoch 50/300\n",
            "168/168 [==============================] - 0s 86us/sample - loss: 0.2333 - acc: 0.9643\n",
            "Epoch 51/300\n",
            "168/168 [==============================] - 0s 89us/sample - loss: 0.2462 - acc: 0.9583\n",
            "Epoch 52/300\n",
            "168/168 [==============================] - 0s 103us/sample - loss: 0.2227 - acc: 0.9524\n",
            "Epoch 53/300\n",
            "168/168 [==============================] - 0s 100us/sample - loss: 0.1813 - acc: 0.9762\n",
            "Epoch 54/300\n",
            "168/168 [==============================] - 0s 104us/sample - loss: 0.2040 - acc: 0.9524\n",
            "Epoch 55/300\n",
            "168/168 [==============================] - 0s 114us/sample - loss: 0.1779 - acc: 0.9881\n",
            "Epoch 56/300\n",
            "168/168 [==============================] - 0s 98us/sample - loss: 0.1664 - acc: 0.9821\n",
            "Epoch 57/300\n",
            "168/168 [==============================] - 0s 109us/sample - loss: 0.1591 - acc: 0.9821\n",
            "Epoch 58/300\n",
            "168/168 [==============================] - 0s 117us/sample - loss: 0.2186 - acc: 0.9583\n",
            "Epoch 59/300\n",
            "168/168 [==============================] - 0s 104us/sample - loss: 0.1616 - acc: 0.9762\n",
            "Epoch 60/300\n",
            "168/168 [==============================] - 0s 108us/sample - loss: 0.1747 - acc: 0.9643\n",
            "Epoch 61/300\n",
            "168/168 [==============================] - 0s 116us/sample - loss: 0.1660 - acc: 0.9643\n",
            "Epoch 62/300\n",
            "168/168 [==============================] - 0s 114us/sample - loss: 0.1611 - acc: 0.9881\n",
            "Epoch 63/300\n",
            "168/168 [==============================] - 0s 114us/sample - loss: 0.1713 - acc: 0.9583\n",
            "Epoch 64/300\n",
            "168/168 [==============================] - 0s 109us/sample - loss: 0.1545 - acc: 0.9702\n",
            "Epoch 65/300\n",
            "168/168 [==============================] - 0s 113us/sample - loss: 0.1125 - acc: 0.9821\n",
            "Epoch 66/300\n",
            "168/168 [==============================] - 0s 110us/sample - loss: 0.1196 - acc: 0.9762\n",
            "Epoch 67/300\n",
            "168/168 [==============================] - 0s 105us/sample - loss: 0.1435 - acc: 0.9762\n",
            "Epoch 68/300\n",
            "168/168 [==============================] - 0s 100us/sample - loss: 0.1000 - acc: 0.9881\n",
            "Epoch 69/300\n",
            "168/168 [==============================] - 0s 97us/sample - loss: 0.1417 - acc: 0.9762\n",
            "Epoch 70/300\n",
            "168/168 [==============================] - 0s 102us/sample - loss: 0.1119 - acc: 0.9762\n",
            "Epoch 71/300\n",
            "168/168 [==============================] - 0s 93us/sample - loss: 0.1000 - acc: 0.9881\n",
            "Epoch 72/300\n",
            "168/168 [==============================] - 0s 112us/sample - loss: 0.1002 - acc: 0.9881\n",
            "Epoch 73/300\n",
            "168/168 [==============================] - 0s 104us/sample - loss: 0.0899 - acc: 0.9881\n",
            "Epoch 74/300\n",
            "168/168 [==============================] - 0s 102us/sample - loss: 0.0850 - acc: 0.9881\n",
            "Epoch 75/300\n",
            "168/168 [==============================] - 0s 107us/sample - loss: 0.0742 - acc: 1.0000\n",
            "Epoch 76/300\n",
            "168/168 [==============================] - 0s 107us/sample - loss: 0.0853 - acc: 0.9821\n",
            "Epoch 77/300\n",
            "168/168 [==============================] - 0s 103us/sample - loss: 0.0744 - acc: 1.0000\n",
            "Epoch 78/300\n",
            "168/168 [==============================] - 0s 109us/sample - loss: 0.0723 - acc: 0.9940\n",
            "Epoch 79/300\n",
            "168/168 [==============================] - 0s 99us/sample - loss: 0.0907 - acc: 0.9881\n",
            "Epoch 80/300\n",
            "168/168 [==============================] - 0s 88us/sample - loss: 0.0718 - acc: 0.9940\n",
            "Epoch 81/300\n",
            "168/168 [==============================] - 0s 92us/sample - loss: 0.0718 - acc: 0.9940\n",
            "Epoch 82/300\n",
            "168/168 [==============================] - 0s 92us/sample - loss: 0.0760 - acc: 0.9881\n",
            "Epoch 83/300\n",
            "168/168 [==============================] - 0s 93us/sample - loss: 0.0775 - acc: 0.9940\n",
            "Epoch 84/300\n",
            "168/168 [==============================] - 0s 95us/sample - loss: 0.0645 - acc: 0.9881\n",
            "Epoch 85/300\n",
            "168/168 [==============================] - 0s 87us/sample - loss: 0.0772 - acc: 0.9881\n",
            "Epoch 86/300\n",
            "168/168 [==============================] - 0s 106us/sample - loss: 0.0747 - acc: 0.9940\n",
            "Epoch 87/300\n",
            "168/168 [==============================] - 0s 99us/sample - loss: 0.0659 - acc: 0.9940\n",
            "Epoch 88/300\n",
            "168/168 [==============================] - 0s 96us/sample - loss: 0.0493 - acc: 0.9940\n",
            "Epoch 89/300\n",
            "168/168 [==============================] - 0s 101us/sample - loss: 0.0659 - acc: 0.9940\n",
            "Epoch 90/300\n",
            "168/168 [==============================] - 0s 97us/sample - loss: 0.0564 - acc: 1.0000\n",
            "Epoch 91/300\n",
            "168/168 [==============================] - 0s 108us/sample - loss: 0.0457 - acc: 1.0000\n",
            "Epoch 92/300\n",
            "168/168 [==============================] - 0s 105us/sample - loss: 0.0616 - acc: 0.9881\n",
            "Epoch 93/300\n",
            "168/168 [==============================] - 0s 100us/sample - loss: 0.0411 - acc: 1.0000\n",
            "Epoch 94/300\n",
            "168/168 [==============================] - 0s 109us/sample - loss: 0.0398 - acc: 1.0000\n",
            "Epoch 95/300\n",
            "168/168 [==============================] - 0s 95us/sample - loss: 0.0592 - acc: 0.9940\n",
            "Epoch 96/300\n",
            "168/168 [==============================] - 0s 91us/sample - loss: 0.0577 - acc: 0.9940\n",
            "Epoch 97/300\n",
            "168/168 [==============================] - 0s 93us/sample - loss: 0.0576 - acc: 0.9940\n",
            "Epoch 98/300\n",
            "168/168 [==============================] - 0s 97us/sample - loss: 0.0517 - acc: 1.0000\n",
            "Epoch 99/300\n",
            "168/168 [==============================] - 0s 100us/sample - loss: 0.0457 - acc: 0.9940\n",
            "Epoch 100/300\n",
            "168/168 [==============================] - 0s 98us/sample - loss: 0.0376 - acc: 1.0000\n",
            "Epoch 101/300\n",
            "168/168 [==============================] - 0s 105us/sample - loss: 0.0297 - acc: 1.0000\n",
            "Epoch 102/300\n",
            "168/168 [==============================] - 0s 110us/sample - loss: 0.0344 - acc: 1.0000\n",
            "Epoch 103/300\n",
            "168/168 [==============================] - 0s 99us/sample - loss: 0.0325 - acc: 1.0000\n",
            "Epoch 104/300\n",
            "168/168 [==============================] - 0s 94us/sample - loss: 0.0568 - acc: 0.9881\n",
            "Epoch 105/300\n",
            "168/168 [==============================] - 0s 104us/sample - loss: 0.0304 - acc: 1.0000\n",
            "Epoch 106/300\n",
            "168/168 [==============================] - 0s 96us/sample - loss: 0.0270 - acc: 1.0000\n",
            "Epoch 107/300\n",
            "168/168 [==============================] - 0s 104us/sample - loss: 0.0519 - acc: 0.9940\n",
            "Epoch 108/300\n",
            "168/168 [==============================] - 0s 92us/sample - loss: 0.0697 - acc: 0.9881\n",
            "Epoch 109/300\n",
            "168/168 [==============================] - 0s 101us/sample - loss: 0.0430 - acc: 1.0000\n",
            "Epoch 110/300\n",
            "168/168 [==============================] - 0s 100us/sample - loss: 0.0338 - acc: 0.9940\n",
            "Epoch 111/300\n",
            "168/168 [==============================] - 0s 108us/sample - loss: 0.0356 - acc: 1.0000\n",
            "Epoch 112/300\n",
            "168/168 [==============================] - 0s 97us/sample - loss: 0.0187 - acc: 1.0000\n",
            "Epoch 113/300\n",
            "168/168 [==============================] - 0s 92us/sample - loss: 0.0491 - acc: 0.9881\n",
            "Epoch 114/300\n",
            "168/168 [==============================] - 0s 99us/sample - loss: 0.0297 - acc: 0.9940\n",
            "Epoch 115/300\n",
            "168/168 [==============================] - 0s 87us/sample - loss: 0.0386 - acc: 0.9881\n",
            "Epoch 116/300\n",
            "168/168 [==============================] - 0s 92us/sample - loss: 0.0340 - acc: 1.0000\n",
            "Epoch 117/300\n",
            "168/168 [==============================] - 0s 108us/sample - loss: 0.0277 - acc: 1.0000\n",
            "Epoch 118/300\n",
            "168/168 [==============================] - 0s 101us/sample - loss: 0.0280 - acc: 1.0000\n",
            "Epoch 119/300\n",
            "168/168 [==============================] - 0s 109us/sample - loss: 0.0226 - acc: 1.0000\n",
            "Epoch 120/300\n",
            "168/168 [==============================] - 0s 99us/sample - loss: 0.0344 - acc: 0.9881\n",
            "Epoch 121/300\n",
            "168/168 [==============================] - 0s 87us/sample - loss: 0.0342 - acc: 0.9940\n",
            "Epoch 122/300\n",
            "168/168 [==============================] - 0s 89us/sample - loss: 0.0215 - acc: 1.0000\n",
            "Epoch 123/300\n",
            "168/168 [==============================] - 0s 99us/sample - loss: 0.0303 - acc: 0.9940\n",
            "Epoch 124/300\n",
            "168/168 [==============================] - 0s 102us/sample - loss: 0.0346 - acc: 0.9940\n",
            "Epoch 125/300\n",
            "168/168 [==============================] - 0s 101us/sample - loss: 0.0385 - acc: 0.9940\n",
            "Epoch 126/300\n",
            "168/168 [==============================] - 0s 105us/sample - loss: 0.0304 - acc: 0.9940\n",
            "Epoch 127/300\n",
            "168/168 [==============================] - 0s 90us/sample - loss: 0.0305 - acc: 1.0000\n",
            "Epoch 128/300\n",
            "168/168 [==============================] - 0s 99us/sample - loss: 0.0266 - acc: 1.0000\n",
            "Epoch 129/300\n",
            "168/168 [==============================] - 0s 95us/sample - loss: 0.0353 - acc: 0.9881\n",
            "Epoch 130/300\n",
            "168/168 [==============================] - 0s 108us/sample - loss: 0.0297 - acc: 0.9940\n",
            "Epoch 131/300\n",
            "168/168 [==============================] - 0s 103us/sample - loss: 0.0265 - acc: 1.0000\n",
            "Epoch 132/300\n",
            "168/168 [==============================] - 0s 98us/sample - loss: 0.0222 - acc: 1.0000\n",
            "Epoch 133/300\n",
            "168/168 [==============================] - 0s 101us/sample - loss: 0.0228 - acc: 1.0000\n",
            "Epoch 134/300\n",
            "168/168 [==============================] - 0s 98us/sample - loss: 0.0424 - acc: 0.9881\n",
            "Epoch 135/300\n",
            "168/168 [==============================] - 0s 109us/sample - loss: 0.0195 - acc: 0.9940\n",
            "Epoch 136/300\n",
            "168/168 [==============================] - 0s 97us/sample - loss: 0.0359 - acc: 0.9940\n",
            "Epoch 137/300\n",
            "168/168 [==============================] - 0s 108us/sample - loss: 0.0215 - acc: 1.0000\n",
            "Epoch 138/300\n",
            "168/168 [==============================] - 0s 104us/sample - loss: 0.0217 - acc: 1.0000\n",
            "Epoch 139/300\n",
            "168/168 [==============================] - 0s 110us/sample - loss: 0.0248 - acc: 1.0000\n",
            "Epoch 140/300\n",
            "168/168 [==============================] - 0s 100us/sample - loss: 0.0119 - acc: 1.0000\n",
            "Epoch 141/300\n",
            "168/168 [==============================] - 0s 102us/sample - loss: 0.0270 - acc: 0.9940\n",
            "Epoch 142/300\n",
            "168/168 [==============================] - 0s 106us/sample - loss: 0.0217 - acc: 1.0000\n",
            "Epoch 143/300\n",
            "168/168 [==============================] - 0s 96us/sample - loss: 0.0311 - acc: 0.9940\n",
            "Epoch 144/300\n",
            "168/168 [==============================] - 0s 104us/sample - loss: 0.0199 - acc: 0.9940\n",
            "Epoch 145/300\n",
            "168/168 [==============================] - 0s 101us/sample - loss: 0.0171 - acc: 1.0000\n",
            "Epoch 146/300\n",
            "168/168 [==============================] - 0s 103us/sample - loss: 0.0212 - acc: 1.0000\n",
            "Epoch 147/300\n",
            "168/168 [==============================] - 0s 93us/sample - loss: 0.0193 - acc: 1.0000\n",
            "Epoch 148/300\n",
            "168/168 [==============================] - 0s 95us/sample - loss: 0.0158 - acc: 1.0000\n",
            "Epoch 149/300\n",
            "168/168 [==============================] - 0s 102us/sample - loss: 0.0171 - acc: 1.0000\n",
            "Epoch 150/300\n",
            "168/168 [==============================] - 0s 102us/sample - loss: 0.0155 - acc: 1.0000\n",
            "Epoch 151/300\n",
            "168/168 [==============================] - 0s 98us/sample - loss: 0.0119 - acc: 1.0000\n",
            "Epoch 152/300\n",
            "168/168 [==============================] - 0s 105us/sample - loss: 0.0248 - acc: 1.0000\n",
            "Epoch 153/300\n",
            "168/168 [==============================] - 0s 101us/sample - loss: 0.0178 - acc: 1.0000\n",
            "Epoch 154/300\n",
            "168/168 [==============================] - 0s 100us/sample - loss: 0.0171 - acc: 1.0000\n",
            "Epoch 155/300\n",
            "168/168 [==============================] - 0s 106us/sample - loss: 0.0236 - acc: 1.0000\n",
            "Epoch 156/300\n",
            "168/168 [==============================] - 0s 101us/sample - loss: 0.0297 - acc: 0.9940\n",
            "Epoch 157/300\n",
            "168/168 [==============================] - 0s 106us/sample - loss: 0.0192 - acc: 1.0000\n",
            "Epoch 158/300\n",
            "168/168 [==============================] - 0s 110us/sample - loss: 0.0129 - acc: 1.0000\n",
            "Epoch 159/300\n",
            "168/168 [==============================] - 0s 98us/sample - loss: 0.0125 - acc: 1.0000\n",
            "Epoch 160/300\n",
            "168/168 [==============================] - 0s 99us/sample - loss: 0.0127 - acc: 1.0000\n",
            "Epoch 161/300\n",
            "168/168 [==============================] - 0s 119us/sample - loss: 0.0149 - acc: 1.0000\n",
            "Epoch 162/300\n",
            "168/168 [==============================] - 0s 105us/sample - loss: 0.0216 - acc: 1.0000\n",
            "Epoch 163/300\n",
            "168/168 [==============================] - 0s 102us/sample - loss: 0.0192 - acc: 1.0000\n",
            "Epoch 164/300\n",
            "168/168 [==============================] - 0s 108us/sample - loss: 0.0139 - acc: 1.0000\n",
            "Epoch 165/300\n",
            "168/168 [==============================] - 0s 106us/sample - loss: 0.0121 - acc: 1.0000\n",
            "Epoch 166/300\n",
            "168/168 [==============================] - 0s 107us/sample - loss: 0.0369 - acc: 0.9821\n",
            "Epoch 167/300\n",
            "168/168 [==============================] - 0s 116us/sample - loss: 0.0059 - acc: 1.0000\n",
            "Epoch 168/300\n",
            "168/168 [==============================] - 0s 105us/sample - loss: 0.0164 - acc: 1.0000\n",
            "Epoch 169/300\n",
            "168/168 [==============================] - 0s 112us/sample - loss: 0.0098 - acc: 1.0000\n",
            "Epoch 170/300\n",
            "168/168 [==============================] - 0s 95us/sample - loss: 0.0112 - acc: 1.0000\n",
            "Epoch 171/300\n",
            "168/168 [==============================] - 0s 97us/sample - loss: 0.0112 - acc: 1.0000\n",
            "Epoch 172/300\n",
            "168/168 [==============================] - 0s 89us/sample - loss: 0.0285 - acc: 0.9881\n",
            "Epoch 173/300\n",
            "168/168 [==============================] - 0s 105us/sample - loss: 0.0113 - acc: 1.0000\n",
            "Epoch 174/300\n",
            "168/168 [==============================] - 0s 100us/sample - loss: 0.0116 - acc: 1.0000\n",
            "Epoch 175/300\n",
            "168/168 [==============================] - 0s 97us/sample - loss: 0.0090 - acc: 1.0000\n",
            "Epoch 176/300\n",
            "168/168 [==============================] - 0s 95us/sample - loss: 0.0138 - acc: 1.0000\n",
            "Epoch 177/300\n",
            "168/168 [==============================] - 0s 95us/sample - loss: 0.0088 - acc: 1.0000\n",
            "Epoch 178/300\n",
            "168/168 [==============================] - 0s 96us/sample - loss: 0.0121 - acc: 1.0000\n",
            "Epoch 179/300\n",
            "168/168 [==============================] - 0s 93us/sample - loss: 0.0081 - acc: 1.0000\n",
            "Epoch 180/300\n",
            "168/168 [==============================] - 0s 110us/sample - loss: 0.0126 - acc: 1.0000\n",
            "Epoch 181/300\n",
            "168/168 [==============================] - 0s 100us/sample - loss: 0.0248 - acc: 0.9881\n",
            "Epoch 182/300\n",
            "168/168 [==============================] - 0s 97us/sample - loss: 0.0144 - acc: 1.0000\n",
            "Epoch 183/300\n",
            "168/168 [==============================] - 0s 98us/sample - loss: 0.0128 - acc: 1.0000\n",
            "Epoch 184/300\n",
            "168/168 [==============================] - 0s 94us/sample - loss: 0.0116 - acc: 1.0000\n",
            "Epoch 185/300\n",
            "168/168 [==============================] - 0s 100us/sample - loss: 0.0138 - acc: 1.0000\n",
            "Epoch 186/300\n",
            "168/168 [==============================] - 0s 106us/sample - loss: 0.0083 - acc: 1.0000\n",
            "Epoch 187/300\n",
            "168/168 [==============================] - 0s 96us/sample - loss: 0.0104 - acc: 1.0000\n",
            "Epoch 188/300\n",
            "168/168 [==============================] - 0s 104us/sample - loss: 0.0108 - acc: 1.0000\n",
            "Epoch 189/300\n",
            "168/168 [==============================] - 0s 87us/sample - loss: 0.0273 - acc: 0.9881\n",
            "Epoch 190/300\n",
            "168/168 [==============================] - 0s 100us/sample - loss: 0.0098 - acc: 1.0000\n",
            "Epoch 191/300\n",
            "168/168 [==============================] - 0s 104us/sample - loss: 0.0134 - acc: 1.0000\n",
            "Epoch 192/300\n",
            "168/168 [==============================] - 0s 93us/sample - loss: 0.0111 - acc: 1.0000\n",
            "Epoch 193/300\n",
            "168/168 [==============================] - 0s 92us/sample - loss: 0.0180 - acc: 1.0000\n",
            "Epoch 194/300\n",
            "168/168 [==============================] - 0s 98us/sample - loss: 0.0097 - acc: 1.0000\n",
            "Epoch 195/300\n",
            "168/168 [==============================] - 0s 95us/sample - loss: 0.0101 - acc: 1.0000\n",
            "Epoch 196/300\n",
            "168/168 [==============================] - 0s 103us/sample - loss: 0.0200 - acc: 1.0000\n",
            "Epoch 197/300\n",
            "168/168 [==============================] - 0s 99us/sample - loss: 0.0073 - acc: 1.0000\n",
            "Epoch 198/300\n",
            "168/168 [==============================] - 0s 92us/sample - loss: 0.0103 - acc: 1.0000\n",
            "Epoch 199/300\n",
            "168/168 [==============================] - 0s 88us/sample - loss: 0.0108 - acc: 1.0000\n",
            "Epoch 200/300\n",
            "168/168 [==============================] - 0s 96us/sample - loss: 0.0041 - acc: 1.0000\n",
            "Epoch 201/300\n",
            "168/168 [==============================] - 0s 98us/sample - loss: 0.0141 - acc: 1.0000\n",
            "Epoch 202/300\n",
            "168/168 [==============================] - 0s 91us/sample - loss: 0.0119 - acc: 1.0000\n",
            "Epoch 203/300\n",
            "168/168 [==============================] - 0s 99us/sample - loss: 0.0114 - acc: 1.0000\n",
            "Epoch 204/300\n",
            "168/168 [==============================] - 0s 109us/sample - loss: 0.0047 - acc: 1.0000\n",
            "Epoch 205/300\n",
            "168/168 [==============================] - 0s 93us/sample - loss: 0.0136 - acc: 1.0000\n",
            "Epoch 206/300\n",
            "168/168 [==============================] - 0s 97us/sample - loss: 0.0069 - acc: 1.0000\n",
            "Epoch 207/300\n",
            "168/168 [==============================] - 0s 104us/sample - loss: 0.0103 - acc: 1.0000\n",
            "Epoch 208/300\n",
            "168/168 [==============================] - 0s 109us/sample - loss: 0.0079 - acc: 1.0000\n",
            "Epoch 209/300\n",
            "168/168 [==============================] - 0s 95us/sample - loss: 0.0090 - acc: 1.0000\n",
            "Epoch 210/300\n",
            "168/168 [==============================] - 0s 97us/sample - loss: 0.0057 - acc: 1.0000\n",
            "Epoch 211/300\n",
            "168/168 [==============================] - 0s 98us/sample - loss: 0.0129 - acc: 1.0000\n",
            "Epoch 212/300\n",
            "168/168 [==============================] - 0s 91us/sample - loss: 0.0048 - acc: 1.0000\n",
            "Epoch 213/300\n",
            "168/168 [==============================] - 0s 112us/sample - loss: 0.0095 - acc: 1.0000\n",
            "Epoch 214/300\n",
            "168/168 [==============================] - 0s 106us/sample - loss: 0.0102 - acc: 1.0000\n",
            "Epoch 215/300\n",
            "168/168 [==============================] - 0s 103us/sample - loss: 0.0102 - acc: 1.0000\n",
            "Epoch 216/300\n",
            "168/168 [==============================] - 0s 114us/sample - loss: 0.0069 - acc: 1.0000\n",
            "Epoch 217/300\n",
            "168/168 [==============================] - 0s 101us/sample - loss: 0.0153 - acc: 0.9940\n",
            "Epoch 218/300\n",
            "168/168 [==============================] - 0s 100us/sample - loss: 0.0150 - acc: 0.9940\n",
            "Epoch 219/300\n",
            "168/168 [==============================] - 0s 90us/sample - loss: 0.0128 - acc: 0.9940\n",
            "Epoch 220/300\n",
            "168/168 [==============================] - 0s 95us/sample - loss: 0.0105 - acc: 1.0000\n",
            "Epoch 221/300\n",
            "168/168 [==============================] - 0s 94us/sample - loss: 0.0158 - acc: 0.9940\n",
            "Epoch 222/300\n",
            "168/168 [==============================] - 0s 102us/sample - loss: 0.0072 - acc: 1.0000\n",
            "Epoch 223/300\n",
            "168/168 [==============================] - 0s 88us/sample - loss: 0.0069 - acc: 1.0000\n",
            "Epoch 224/300\n",
            "168/168 [==============================] - 0s 101us/sample - loss: 0.0067 - acc: 1.0000\n",
            "Epoch 225/300\n",
            "168/168 [==============================] - 0s 98us/sample - loss: 0.0047 - acc: 1.0000\n",
            "Epoch 226/300\n",
            "168/168 [==============================] - 0s 95us/sample - loss: 0.0033 - acc: 1.0000\n",
            "Epoch 227/300\n",
            "168/168 [==============================] - 0s 115us/sample - loss: 0.0040 - acc: 1.0000\n",
            "Epoch 228/300\n",
            "168/168 [==============================] - 0s 119us/sample - loss: 0.0075 - acc: 1.0000\n",
            "Epoch 229/300\n",
            "168/168 [==============================] - 0s 114us/sample - loss: 0.0088 - acc: 1.0000\n",
            "Epoch 230/300\n",
            "168/168 [==============================] - 0s 107us/sample - loss: 0.0083 - acc: 1.0000\n",
            "Epoch 231/300\n",
            "168/168 [==============================] - 0s 116us/sample - loss: 0.0077 - acc: 1.0000\n",
            "Epoch 232/300\n",
            "168/168 [==============================] - 0s 111us/sample - loss: 0.0087 - acc: 1.0000\n",
            "Epoch 233/300\n",
            "168/168 [==============================] - 0s 102us/sample - loss: 0.0097 - acc: 1.0000\n",
            "Epoch 234/300\n",
            "168/168 [==============================] - 0s 144us/sample - loss: 0.0112 - acc: 0.9940\n",
            "Epoch 235/300\n",
            "168/168 [==============================] - 0s 112us/sample - loss: 0.0068 - acc: 1.0000\n",
            "Epoch 236/300\n",
            "168/168 [==============================] - 0s 110us/sample - loss: 0.0085 - acc: 1.0000\n",
            "Epoch 237/300\n",
            "168/168 [==============================] - 0s 102us/sample - loss: 0.0113 - acc: 1.0000\n",
            "Epoch 238/300\n",
            "168/168 [==============================] - 0s 100us/sample - loss: 0.0048 - acc: 1.0000\n",
            "Epoch 239/300\n",
            "168/168 [==============================] - 0s 117us/sample - loss: 0.0062 - acc: 1.0000\n",
            "Epoch 240/300\n",
            "168/168 [==============================] - 0s 108us/sample - loss: 0.0030 - acc: 1.0000\n",
            "Epoch 241/300\n",
            "168/168 [==============================] - 0s 102us/sample - loss: 0.0041 - acc: 1.0000\n",
            "Epoch 242/300\n",
            "168/168 [==============================] - 0s 99us/sample - loss: 0.0039 - acc: 1.0000\n",
            "Epoch 243/300\n",
            "168/168 [==============================] - 0s 96us/sample - loss: 0.0052 - acc: 1.0000\n",
            "Epoch 244/300\n",
            "168/168 [==============================] - 0s 98us/sample - loss: 0.0073 - acc: 1.0000\n",
            "Epoch 245/300\n",
            "168/168 [==============================] - 0s 102us/sample - loss: 0.0131 - acc: 0.9940\n",
            "Epoch 246/300\n",
            "168/168 [==============================] - 0s 97us/sample - loss: 0.0045 - acc: 1.0000\n",
            "Epoch 247/300\n",
            "168/168 [==============================] - 0s 92us/sample - loss: 0.0096 - acc: 1.0000\n",
            "Epoch 248/300\n",
            "168/168 [==============================] - 0s 98us/sample - loss: 0.0113 - acc: 0.9940\n",
            "Epoch 249/300\n",
            "168/168 [==============================] - 0s 96us/sample - loss: 0.0037 - acc: 1.0000\n",
            "Epoch 250/300\n",
            "168/168 [==============================] - 0s 109us/sample - loss: 0.0076 - acc: 1.0000\n",
            "Epoch 251/300\n",
            "168/168 [==============================] - 0s 107us/sample - loss: 0.0093 - acc: 1.0000\n",
            "Epoch 252/300\n",
            "168/168 [==============================] - 0s 95us/sample - loss: 0.0072 - acc: 1.0000\n",
            "Epoch 253/300\n",
            "168/168 [==============================] - 0s 91us/sample - loss: 0.0074 - acc: 1.0000\n",
            "Epoch 254/300\n",
            "168/168 [==============================] - 0s 91us/sample - loss: 0.0086 - acc: 1.0000\n",
            "Epoch 255/300\n",
            "168/168 [==============================] - 0s 101us/sample - loss: 0.0094 - acc: 0.9940\n",
            "Epoch 256/300\n",
            "168/168 [==============================] - 0s 96us/sample - loss: 0.0036 - acc: 1.0000\n",
            "Epoch 257/300\n",
            "168/168 [==============================] - 0s 90us/sample - loss: 0.0038 - acc: 1.0000\n",
            "Epoch 258/300\n",
            "168/168 [==============================] - 0s 93us/sample - loss: 0.0041 - acc: 1.0000\n",
            "Epoch 259/300\n",
            "168/168 [==============================] - 0s 104us/sample - loss: 0.0052 - acc: 1.0000\n",
            "Epoch 260/300\n",
            "168/168 [==============================] - 0s 101us/sample - loss: 0.0036 - acc: 1.0000\n",
            "Epoch 261/300\n",
            "168/168 [==============================] - 0s 102us/sample - loss: 0.0045 - acc: 1.0000\n",
            "Epoch 262/300\n",
            "168/168 [==============================] - 0s 97us/sample - loss: 0.0049 - acc: 1.0000\n",
            "Epoch 263/300\n",
            "168/168 [==============================] - 0s 110us/sample - loss: 0.0033 - acc: 1.0000\n",
            "Epoch 264/300\n",
            "168/168 [==============================] - 0s 104us/sample - loss: 0.0051 - acc: 1.0000\n",
            "Epoch 265/300\n",
            "168/168 [==============================] - 0s 119us/sample - loss: 0.0056 - acc: 1.0000\n",
            "Epoch 266/300\n",
            "168/168 [==============================] - 0s 82us/sample - loss: 0.0069 - acc: 1.0000\n",
            "Epoch 267/300\n",
            "168/168 [==============================] - 0s 93us/sample - loss: 0.0126 - acc: 0.9940\n",
            "Epoch 268/300\n",
            "168/168 [==============================] - 0s 92us/sample - loss: 0.0041 - acc: 1.0000\n",
            "Epoch 269/300\n",
            "168/168 [==============================] - 0s 109us/sample - loss: 0.0134 - acc: 1.0000\n",
            "Epoch 270/300\n",
            "168/168 [==============================] - 0s 120us/sample - loss: 0.0071 - acc: 1.0000\n",
            "Epoch 271/300\n",
            "168/168 [==============================] - 0s 103us/sample - loss: 0.0035 - acc: 1.0000\n",
            "Epoch 272/300\n",
            "168/168 [==============================] - 0s 105us/sample - loss: 0.0060 - acc: 1.0000\n",
            "Epoch 273/300\n",
            "168/168 [==============================] - 0s 115us/sample - loss: 0.0069 - acc: 1.0000\n",
            "Epoch 274/300\n",
            "168/168 [==============================] - 0s 99us/sample - loss: 0.0044 - acc: 1.0000\n",
            "Epoch 275/300\n",
            "168/168 [==============================] - 0s 98us/sample - loss: 0.0095 - acc: 0.9940\n",
            "Epoch 276/300\n",
            "168/168 [==============================] - 0s 101us/sample - loss: 0.0053 - acc: 1.0000\n",
            "Epoch 277/300\n",
            "168/168 [==============================] - 0s 131us/sample - loss: 0.0052 - acc: 1.0000\n",
            "Epoch 278/300\n",
            "168/168 [==============================] - 0s 107us/sample - loss: 0.0068 - acc: 1.0000\n",
            "Epoch 279/300\n",
            "168/168 [==============================] - 0s 101us/sample - loss: 0.0051 - acc: 1.0000\n",
            "Epoch 280/300\n",
            "168/168 [==============================] - 0s 116us/sample - loss: 0.0074 - acc: 1.0000\n",
            "Epoch 281/300\n",
            "168/168 [==============================] - 0s 110us/sample - loss: 0.0057 - acc: 1.0000\n",
            "Epoch 282/300\n",
            "168/168 [==============================] - 0s 103us/sample - loss: 0.0046 - acc: 1.0000\n",
            "Epoch 283/300\n",
            "168/168 [==============================] - 0s 105us/sample - loss: 0.0093 - acc: 1.0000\n",
            "Epoch 284/300\n",
            "168/168 [==============================] - 0s 104us/sample - loss: 0.0020 - acc: 1.0000\n",
            "Epoch 285/300\n",
            "168/168 [==============================] - 0s 117us/sample - loss: 0.0038 - acc: 1.0000\n",
            "Epoch 286/300\n",
            "168/168 [==============================] - 0s 113us/sample - loss: 0.0073 - acc: 1.0000\n",
            "Epoch 287/300\n",
            "168/168 [==============================] - 0s 99us/sample - loss: 0.0060 - acc: 1.0000\n",
            "Epoch 288/300\n",
            "168/168 [==============================] - 0s 103us/sample - loss: 0.0054 - acc: 1.0000\n",
            "Epoch 289/300\n",
            "168/168 [==============================] - 0s 97us/sample - loss: 0.0178 - acc: 0.9940\n",
            "Epoch 290/300\n",
            "168/168 [==============================] - 0s 100us/sample - loss: 0.0040 - acc: 1.0000\n",
            "Epoch 291/300\n",
            "168/168 [==============================] - 0s 97us/sample - loss: 0.0095 - acc: 1.0000\n",
            "Epoch 292/300\n",
            "168/168 [==============================] - 0s 90us/sample - loss: 0.0043 - acc: 1.0000\n",
            "Epoch 293/300\n",
            "168/168 [==============================] - 0s 108us/sample - loss: 0.0052 - acc: 1.0000\n",
            "Epoch 294/300\n",
            "168/168 [==============================] - 0s 110us/sample - loss: 0.0046 - acc: 1.0000\n",
            "Epoch 295/300\n",
            "168/168 [==============================] - 0s 101us/sample - loss: 0.0055 - acc: 1.0000\n",
            "Epoch 296/300\n",
            "168/168 [==============================] - 0s 107us/sample - loss: 0.0027 - acc: 1.0000\n",
            "Epoch 297/300\n",
            "168/168 [==============================] - 0s 98us/sample - loss: 0.0035 - acc: 1.0000\n",
            "Epoch 298/300\n",
            "168/168 [==============================] - 0s 93us/sample - loss: 0.0023 - acc: 1.0000\n",
            "Epoch 299/300\n",
            "168/168 [==============================] - 0s 90us/sample - loss: 0.0018 - acc: 1.0000\n",
            "Epoch 300/300\n",
            "168/168 [==============================] - 0s 91us/sample - loss: 0.0080 - acc: 1.0000\n"
          ]
        },
        {
          "output_type": "execute_result",
          "data": {
            "text/plain": [
              "<tensorflow.python.keras.callbacks.History at 0x7f1ea65d4d50>"
            ]
          },
          "metadata": {},
          "execution_count": 55
        }
      ],
      "source": [
        "# Building the model\n",
        "\n",
        "# Initializing model\n",
        "\n",
        "model = Sequential()\n",
        "\n",
        "# Input layer \n",
        "\n",
        "model.add(Dense(128, input_shape=input_shape, activation=\"relu\"))\n",
        "model.add(Dropout(0.5))\n",
        "model.add(Dense(64, activation=\"relu\"))\n",
        "model.add(Dropout(0.2))\n",
        "\n",
        "# Output layer\n",
        "model.add(Dense(output_shape, activation = \"softmax\"))\n",
        "\n",
        "# Compiling the model\n",
        "model.compile(loss='categorical_crossentropy', optimizer=Adam(), metrics=[\"accuracy\"])\n",
        "\n",
        "# Model summary\n",
        "print(model.summary())\n",
        "\n",
        "# Fitting the model\n",
        "model.fit(x=train_X, y=train_y, epochs=epochs, verbose=1)"
      ]
    },
    {
      "cell_type": "code",
      "execution_count": 56,
      "id": "15024ef6",
      "metadata": {
        "id": "15024ef6"
      },
      "outputs": [],
      "source": [
        "# Impelementations for interactive seesion with Chatbot \n",
        "\n",
        "def lemma_s(text): \n",
        "  tokens = nltk.word_tokenize(text)\n",
        "  tokens = [lemmatizer.lemmatize(word) for word in tokens]\n",
        "  return tokens\n",
        "\n",
        "def bow_s(text, vocab): \n",
        "  tokens = lemma_s(text)\n",
        "  bow = [0] * len(vocab)\n",
        "  for w in tokens: \n",
        "    for idx, word in enumerate(vocab):\n",
        "      if word == w: \n",
        "        bow[idx] = 1\n",
        "  return np.array(bow)\n",
        "\n",
        "def pred_label_s(text, vocab, labels): \n",
        "  bow = bow_s(text, vocab)\n",
        "  result = model.predict(np.array([bow]))[0]\n",
        "  threshold = 0.2\n",
        "  y_pred = [[idx, res] for idx, res in enumerate(result) if res > threshold]\n",
        "\n",
        "  y_pred.sort(key=lambda x: x[1], reverse=True)\n",
        "  return_list = []\n",
        "  for r in y_pred:\n",
        "    return_list.append(labels[r[0]])\n",
        "  return return_list\n",
        "\n",
        "def response(intents_list, intents_json): \n",
        "  tag = intents_list[0]\n",
        "  list_of_intents = intents_json[\"intents\"]\n",
        "  for i in list_of_intents: \n",
        "    if i[\"tag\"] == tag:\n",
        "      result = random.choice(i[\"responses\"])\n",
        "      break\n",
        "  return result"
      ]
    },
    {
      "cell_type": "code",
      "execution_count": 57,
      "id": "878f2b32",
      "metadata": {
        "colab": {
          "base_uri": "https://localhost:8080/"
        },
        "id": "878f2b32",
        "outputId": "7a95ff1e-f2a1-41af-b0d5-034642971c2c"
      },
      "outputs": [
        {
          "output_type": "stream",
          "name": "stdout",
          "text": [
            "GL_BOT : Chat with the GL_BOT [Type 'quit' to stop the session] \n",
            "\n",
            "GL_BOT : If answer given is not correct [Type '*'] !\n",
            "\n",
            "\n",
            "You: hi\n",
            "\n",
            "GL_BOT :  Hello! how can i help you ?\n",
            "You: my office is at bangalore\n",
            "\n",
            "GL_BOT :  I understand you are at Bangalore office,India\n",
            "You: workplace\n",
            "\n",
            "GL_BOT :  Hello! how can i help you ?\n",
            "You: work place\n",
            "\n",
            "GL_BOT :  I understand you are at Bangalore office,India\n",
            "You: email not functional\n",
            "\n",
            "GL_BOT :  Please use this link [emailhelp.com] to get step by step solution\n",
            "You: where to find ml tutorials\n",
            "\n",
            "GL_BOT :  Link: Machine Learning wiki \n",
            "You: ciao\n",
            "\n",
            "GL_BOT :  I hope I was able to assist you, Good Bye\n",
            "You: quit\n",
            "\n",
            "GL_BOT : ****See you again soon****\n"
          ]
        }
      ],
      "source": [
        "# Running the chatbot\n",
        "\n",
        "print(\"GL_BOT : Chat with the GL_BOT [Type 'quit' to stop the session] \")\n",
        "print(\"\\nGL_BOT : If answer given is not correct [Type '*'] !\\n\\n\")\n",
        "\n",
        "while True:\n",
        "  \n",
        "  # Reading Input\n",
        "\n",
        "  message = input('You: ')\n",
        "\n",
        "  # Handling inadequate reply\n",
        "  \n",
        "  if message.lower() == '*':\n",
        "    print('\\nGL_BOT:Please rephrase your question and try again')\n",
        "\n",
        "  # Stopping the session\n",
        "  \n",
        "  if message.lower() == 'quit':\n",
        "    print('\\nGL_BOT : ****See you again soon****')\n",
        "    break\n",
        "\n",
        "  # Predicting and printing the response of the bot  \n",
        "  \n",
        "  intents = pred_label_s(message, words, classes)\n",
        "  result = response(intents, corpus_data)\n",
        "  print(\"\\nGL_BOT : \", result)"
      ]
    }
  ],
  "metadata": {
    "kernelspec": {
      "display_name": "Python 3 (ipykernel)",
      "language": "python",
      "name": "python3"
    },
    "language_info": {
      "codemirror_mode": {
        "name": "ipython",
        "version": 3
      },
      "file_extension": ".py",
      "mimetype": "text/x-python",
      "name": "python",
      "nbconvert_exporter": "python",
      "pygments_lexer": "ipython3",
      "version": "3.9.7"
    },
    "colab": {
      "name": "Gouranga_NLP_Project_1_Whole.ipynb",
      "provenance": [],
      "collapsed_sections": [
        "8a144113"
      ],
      "machine_shape": "hm"
    },
    "accelerator": "GPU"
  },
  "nbformat": 4,
  "nbformat_minor": 5
}